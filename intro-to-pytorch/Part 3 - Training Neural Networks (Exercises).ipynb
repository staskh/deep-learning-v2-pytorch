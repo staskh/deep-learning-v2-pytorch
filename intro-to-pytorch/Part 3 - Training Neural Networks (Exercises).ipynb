{
 "cells": [
  {
   "cell_type": "markdown",
   "metadata": {},
   "source": [
    "# Training Neural Networks\n",
    "\n",
    "The network we built in the previous part isn't so smart, it doesn't know anything about our handwritten digits. Neural networks with non-linear activations work like universal function approximators. There is some function that maps your input to the output. For example, images of handwritten digits to class probabilities. The power of neural networks is that we can train them to approximate this function, and basically any function given enough data and compute time.\n",
    "\n",
    "<img src=\"assets/function_approx.png\" width=500px>\n",
    "\n",
    "At first the network is naive, it doesn't know the function mapping the inputs to the outputs. We train the network by showing it examples of real data, then adjusting the network parameters such that it approximates this function.\n",
    "\n",
    "To find these parameters, we need to know how poorly the network is predicting the real outputs. For this we calculate a **loss function** (also called the cost), a measure of our prediction error. For example, the mean squared loss is often used in regression and binary classification problems\n",
    "\n",
    "$$\n",
    "\\large \\ell = \\frac{1}{2n}\\sum_i^n{\\left(y_i - \\hat{y}_i\\right)^2}\n",
    "$$\n",
    "\n",
    "where $n$ is the number of training examples, $y_i$ are the true labels, and $\\hat{y}_i$ are the predicted labels.\n",
    "\n",
    "By minimizing this loss with respect to the network parameters, we can find configurations where the loss is at a minimum and the network is able to predict the correct labels with high accuracy. We find this minimum using a process called **gradient descent**. The gradient is the slope of the loss function and points in the direction of fastest change. To get to the minimum in the least amount of time, we then want to follow the gradient (downwards). You can think of this like descending a mountain by following the steepest slope to the base.\n",
    "\n",
    "<img src='assets/gradient_descent.png' width=350px>"
   ]
  },
  {
   "cell_type": "markdown",
   "metadata": {},
   "source": [
    "## Backpropagation\n",
    "\n",
    "For single layer networks, gradient descent is straightforward to implement. However, it's more complicated for deeper, multilayer neural networks like the one we've built. Complicated enough that it took about 30 years before researchers figured out how to train multilayer networks.\n",
    "\n",
    "Training multilayer networks is done through **backpropagation** which is really just an application of the chain rule from calculus. It's easiest to understand if we convert a two layer network into a graph representation.\n",
    "\n",
    "<img src='assets/backprop_diagram.png' width=550px>\n",
    "\n",
    "In the forward pass through the network, our data and operations go from bottom to top here. We pass the input $x$ through a linear transformation $L_1$ with weights $W_1$ and biases $b_1$. The output then goes through the sigmoid operation $S$ and another linear transformation $L_2$. Finally we calculate the loss $\\ell$. We use the loss as a measure of how bad the network's predictions are. The goal then is to adjust the weights and biases to minimize the loss.\n",
    "\n",
    "To train the weights with gradient descent, we propagate the gradient of the loss backwards through the network. Each operation has some gradient between the inputs and outputs. As we send the gradients backwards, we multiply the incoming gradient with the gradient for the operation. Mathematically, this is really just calculating the gradient of the loss with respect to the weights using the chain rule.\n",
    "\n",
    "$$\n",
    "\\large \\frac{\\partial \\ell}{\\partial W_1} = \\frac{\\partial L_1}{\\partial W_1} \\frac{\\partial S}{\\partial L_1} \\frac{\\partial L_2}{\\partial S} \\frac{\\partial \\ell}{\\partial L_2}\n",
    "$$\n",
    "\n",
    "**Note:** I'm glossing over a few details here that require some knowledge of vector calculus, but they aren't necessary to understand what's going on.\n",
    "\n",
    "We update our weights using this gradient with some learning rate $\\alpha$. \n",
    "\n",
    "$$\n",
    "\\large W^\\prime_1 = W_1 - \\alpha \\frac{\\partial \\ell}{\\partial W_1}\n",
    "$$\n",
    "\n",
    "The learning rate $\\alpha$ is set such that the weight update steps are small enough that the iterative method settles in a minimum."
   ]
  },
  {
   "cell_type": "markdown",
   "metadata": {},
   "source": [
    "## Losses in PyTorch\n",
    "\n",
    "Let's start by seeing how we calculate the loss with PyTorch. Through the `nn` module, PyTorch provides losses such as the cross-entropy loss (`nn.CrossEntropyLoss`). You'll usually see the loss assigned to `criterion`. As noted in the last part, with a classification problem such as MNIST, we're using the softmax function to predict class probabilities. With a softmax output, you want to use cross-entropy as the loss. To actually calculate the loss, you first define the criterion then pass in the output of your network and the correct labels.\n",
    "\n",
    "Something really important to note here. Looking at [the documentation for `nn.CrossEntropyLoss`](https://pytorch.org/docs/stable/nn.html#torch.nn.CrossEntropyLoss),\n",
    "\n",
    "> This criterion combines `nn.LogSoftmax()` and `nn.NLLLoss()` in one single class.\n",
    ">\n",
    "> The input is expected to contain scores for each class.\n",
    "\n",
    "This means we need to pass in the raw output of our network into the loss, not the output of the softmax function. This raw output is usually called the *logits* or *scores*. We use the logits because softmax gives you probabilities which will often be very close to zero or one but floating-point numbers can't accurately represent values near zero or one ([read more here](https://docs.python.org/3/tutorial/floatingpoint.html)). It's usually best to avoid doing calculations with probabilities, typically we use log-probabilities."
   ]
  },
  {
   "cell_type": "code",
   "execution_count": 1,
   "metadata": {},
   "outputs": [],
   "source": [
    "# The MNIST datasets are hosted on yann.lecun.com that has moved under CloudFlare protection\n",
    "# Run this script to enable the datasets download\n",
    "# Reference: https://github.com/pytorch/vision/issues/1938\n",
    "\n",
    "from six.moves import urllib\n",
    "opener = urllib.request.build_opener()\n",
    "opener.addheaders = [('User-agent', 'Mozilla/5.0')]\n",
    "urllib.request.install_opener(opener)"
   ]
  },
  {
   "cell_type": "code",
   "execution_count": 2,
   "metadata": {},
   "outputs": [],
   "source": [
    "import torch\n",
    "from torch import nn\n",
    "import torch.nn.functional as F\n",
    "from torchvision import datasets, transforms\n",
    "\n",
    "# Define a transform to normalize the data\n",
    "transform = transforms.Compose([transforms.ToTensor(),\n",
    "                                transforms.Normalize((0.5,), (0.5,)),\n",
    "                              ])\n",
    "# Download and load the training data\n",
    "trainset = datasets.MNIST('~/.pytorch/MNIST_data/', download=True, train=True, transform=transform)\n",
    "trainloader = torch.utils.data.DataLoader(trainset, batch_size=64, shuffle=True)"
   ]
  },
  {
   "cell_type": "markdown",
   "metadata": {},
   "source": [
    "### Note\n",
    "If you haven't seen `nn.Sequential` yet, please finish the end of the Part 2 notebook."
   ]
  },
  {
   "cell_type": "code",
   "execution_count": 3,
   "metadata": {},
   "outputs": [
    {
     "name": "stdout",
     "output_type": "stream",
     "text": [
      "tensor(2.3130, grad_fn=<NllLossBackward>)\n"
     ]
    }
   ],
   "source": [
    "# Build a feed-forward network\n",
    "model = nn.Sequential(nn.Linear(784, 128),\n",
    "                      nn.ReLU(),\n",
    "                      nn.Linear(128, 64),\n",
    "                      nn.ReLU(),\n",
    "                      nn.Linear(64, 10))\n",
    "\n",
    "# Define the loss\n",
    "criterion = nn.CrossEntropyLoss()\n",
    "\n",
    "# Get our data\n",
    "dataiter = iter(trainloader)\n",
    "\n",
    "images, labels = next(dataiter)\n",
    "\n",
    "# Flatten images\n",
    "images = images.view(images.shape[0], -1)\n",
    "\n",
    "# Forward pass, get our logits\n",
    "logits = model(images)\n",
    "# Calculate the loss with the logits and the labels\n",
    "loss = criterion(logits, labels)\n",
    "\n",
    "print(loss)"
   ]
  },
  {
   "cell_type": "code",
   "execution_count": 6,
   "metadata": {},
   "outputs": [
    {
     "data": {
      "text/plain": [
       "tensor([[-0.0371, -0.0384, -0.0156, -0.2280,  0.0533,  0.0732, -0.0560,  0.0973,\n",
       "          0.2271, -0.1047],\n",
       "        [-0.0816, -0.0047, -0.0414, -0.2088,  0.0446,  0.0938, -0.0986,  0.0169,\n",
       "          0.1803, -0.1290],\n",
       "        [-0.0773, -0.0368, -0.0059, -0.2284,  0.0939,  0.0405, -0.0616,  0.0403,\n",
       "          0.1468, -0.0817],\n",
       "        [-0.0079, -0.1290, -0.1246, -0.1896,  0.0389,  0.0462, -0.1100,  0.1043,\n",
       "          0.1763, -0.1729],\n",
       "        [-0.0248, -0.1131, -0.0983, -0.1160,  0.0904,  0.0536, -0.0565,  0.1344,\n",
       "          0.2189, -0.2335],\n",
       "        [ 0.0088, -0.1088, -0.1184, -0.1902,  0.0369,  0.0076, -0.1161,  0.0324,\n",
       "          0.1750, -0.1572],\n",
       "        [-0.0778,  0.0072, -0.0410, -0.3055,  0.0976,  0.0719, -0.0342,  0.0794,\n",
       "          0.1675, -0.1167],\n",
       "        [-0.0104,  0.0160, -0.1011, -0.2451,  0.0557,  0.0712, -0.0997, -0.0065,\n",
       "          0.2023, -0.0598],\n",
       "        [-0.0126, -0.0500, -0.0408, -0.1926,  0.0843,  0.0572, -0.1290,  0.0386,\n",
       "          0.2023, -0.1054],\n",
       "        [-0.0377, -0.1020, -0.0128, -0.2210,  0.0456,  0.0295, -0.1235,  0.1358,\n",
       "          0.1362, -0.1843],\n",
       "        [-0.0416, -0.0535, -0.0908, -0.2011,  0.0321,  0.0444, -0.0399,  0.0296,\n",
       "          0.1409, -0.1815],\n",
       "        [-0.0090, -0.0903, -0.0506, -0.1554,  0.0244,  0.0421, -0.0784,  0.1041,\n",
       "          0.1345, -0.1531],\n",
       "        [-0.0505, -0.0239, -0.0504, -0.2078,  0.0746,  0.1078, -0.0400,  0.0618,\n",
       "          0.1530, -0.1287],\n",
       "        [-0.1052, -0.0967, -0.0537, -0.2380,  0.0672,  0.0429, -0.0550,  0.0770,\n",
       "          0.1091, -0.1334],\n",
       "        [-0.0671, -0.0650, -0.0326, -0.2366,  0.0942,  0.0384, -0.0729,  0.0658,\n",
       "          0.1305, -0.1490],\n",
       "        [-0.0097, -0.0932, -0.0844, -0.1734,  0.0311,  0.0517, -0.1133,  0.0847,\n",
       "          0.2213, -0.1676],\n",
       "        [-0.1097, -0.0472, -0.0480, -0.2412,  0.0176,  0.0555, -0.0694,  0.1276,\n",
       "          0.1476, -0.0591],\n",
       "        [-0.0130, -0.0624, -0.0639, -0.2435,  0.0307,  0.0631, -0.0236,  0.0786,\n",
       "          0.1227, -0.0656],\n",
       "        [-0.1087, -0.0246, -0.0365, -0.2543,  0.0552,  0.0110, -0.0950,  0.1131,\n",
       "          0.2058, -0.1288],\n",
       "        [-0.0226, -0.0386, -0.0472, -0.2111,  0.0875,  0.0804, -0.0505,  0.0709,\n",
       "          0.1305, -0.0714],\n",
       "        [-0.0198, -0.0842, -0.0225, -0.2357,  0.0812,  0.0716, -0.0322,  0.1596,\n",
       "          0.2241, -0.2118],\n",
       "        [-0.0687, -0.0976, -0.0260, -0.3039,  0.0791,  0.0233, -0.0773,  0.1531,\n",
       "          0.2470, -0.2145],\n",
       "        [-0.0617,  0.0075, -0.0261, -0.2045,  0.0548,  0.1050, -0.0705,  0.0178,\n",
       "          0.1651, -0.1097],\n",
       "        [-0.0146, -0.0137, -0.0329, -0.1930,  0.0292,  0.0843, -0.0854,  0.0594,\n",
       "          0.2105, -0.0878],\n",
       "        [ 0.0554, -0.1060, -0.1291, -0.2055,  0.0083,  0.0087, -0.0521,  0.0667,\n",
       "          0.1991, -0.1997],\n",
       "        [-0.0684, -0.0632, -0.0742, -0.2403,  0.0719,  0.0742, -0.0070,  0.1137,\n",
       "          0.2265, -0.1584],\n",
       "        [-0.0438, -0.0151,  0.0195, -0.2462, -0.0139,  0.0768, -0.0903,  0.0371,\n",
       "          0.1854, -0.0877],\n",
       "        [ 0.0076, -0.0363, -0.0746, -0.2178,  0.0200,  0.0734, -0.0364,  0.0813,\n",
       "          0.1901, -0.1378],\n",
       "        [-0.0754,  0.0072, -0.0396, -0.2153,  0.0462,  0.0967, -0.0892, -0.0116,\n",
       "          0.1884, -0.1159],\n",
       "        [-0.0276,  0.0096,  0.0100, -0.2270,  0.0870,  0.0973, -0.0457, -0.0045,\n",
       "          0.1922, -0.1182],\n",
       "        [ 0.0122, -0.0400, -0.0704, -0.1764,  0.0533,  0.0330, -0.0753,  0.0524,\n",
       "          0.2129, -0.1887],\n",
       "        [-0.0598, -0.0129,  0.0797, -0.3143,  0.1256, -0.0048, -0.1318,  0.0758,\n",
       "          0.1808, -0.1806],\n",
       "        [ 0.0152, -0.0081,  0.0231, -0.2260,  0.0783,  0.0433, -0.0748,  0.0135,\n",
       "          0.1937, -0.1590],\n",
       "        [-0.0339, -0.0330, -0.0242, -0.2815,  0.1024,  0.0238, -0.1315,  0.0229,\n",
       "          0.2419, -0.0978],\n",
       "        [-0.0091, -0.0631, -0.0962, -0.2022,  0.0047,  0.0544, -0.0824,  0.0385,\n",
       "          0.2957, -0.1580],\n",
       "        [-0.0843, -0.0061,  0.0060, -0.2143,  0.0605,  0.0389, -0.0791,  0.0053,\n",
       "          0.2349, -0.2001],\n",
       "        [-0.0628,  0.0154, -0.0015, -0.3100,  0.0436,  0.0739, -0.1119,  0.0310,\n",
       "          0.1862, -0.0592],\n",
       "        [-0.0291, -0.0745,  0.0225, -0.2252,  0.0793,  0.0403, -0.0613,  0.1492,\n",
       "          0.1616, -0.1640],\n",
       "        [-0.0595,  0.0074, -0.0344, -0.2196,  0.0558,  0.0978, -0.0698,  0.0081,\n",
       "          0.2220, -0.1288],\n",
       "        [-0.0448, -0.0284, -0.0174, -0.1500,  0.1017,  0.0357, -0.0451,  0.0467,\n",
       "          0.1755, -0.1668],\n",
       "        [-0.0074, -0.0480, -0.0893, -0.2360,  0.0323,  0.0046, -0.0667,  0.0279,\n",
       "          0.1483, -0.2032],\n",
       "        [-0.1054, -0.0503, -0.0483, -0.2526,  0.0910,  0.0964, -0.0435,  0.0777,\n",
       "          0.1132, -0.1084],\n",
       "        [-0.0258, -0.0948, -0.0517, -0.2297,  0.0784,  0.0406, -0.0918,  0.0746,\n",
       "          0.1534, -0.0975],\n",
       "        [-0.0069, -0.1003, -0.1073, -0.2079, -0.0013,  0.0583, -0.0341,  0.1232,\n",
       "          0.1505, -0.0884],\n",
       "        [-0.0168,  0.0143, -0.0527, -0.2878,  0.0992,  0.0782, -0.0916,  0.0224,\n",
       "          0.1899, -0.1081],\n",
       "        [-0.0242, -0.1110, -0.0978, -0.1408,  0.0509,  0.0384, -0.0821,  0.1242,\n",
       "          0.1588, -0.2061],\n",
       "        [-0.0299, -0.0599, -0.0586, -0.2507, -0.0043,  0.0174, -0.1307,  0.1012,\n",
       "          0.1590, -0.1895],\n",
       "        [-0.0365, -0.0187,  0.0099, -0.2717,  0.1105,  0.0639, -0.1158,  0.0683,\n",
       "          0.2077, -0.1588],\n",
       "        [-0.0375, -0.0535, -0.0712, -0.2266,  0.0396,  0.0819, -0.0570,  0.0323,\n",
       "          0.1938, -0.0423],\n",
       "        [-0.0581, -0.0266, -0.0210, -0.1884,  0.0364,  0.0952, -0.0973,  0.0206,\n",
       "          0.1815, -0.1693],\n",
       "        [-0.0224, -0.0474,  0.0540, -0.2632,  0.0843,  0.0574, -0.0699,  0.1724,\n",
       "          0.1225, -0.1563],\n",
       "        [ 0.0265, -0.0701, -0.0902, -0.1369,  0.0451,  0.0245, -0.0471,  0.0849,\n",
       "          0.1406, -0.2065],\n",
       "        [ 0.0320, -0.1240, -0.0383, -0.1984,  0.1328,  0.0320, -0.1345,  0.0810,\n",
       "          0.1269, -0.1941],\n",
       "        [-0.0332, -0.0491, -0.0755, -0.1963, -0.0031,  0.0394, -0.0585,  0.1135,\n",
       "          0.1654, -0.1721],\n",
       "        [ 0.0032, -0.0131, -0.1208, -0.1724,  0.0533,  0.0567, -0.0792,  0.0618,\n",
       "          0.2072, -0.1123],\n",
       "        [-0.0135, -0.0332, -0.0078, -0.2310,  0.1241,  0.0414, -0.0896,  0.0377,\n",
       "          0.2663, -0.1970],\n",
       "        [-0.0439, -0.0514, -0.0591, -0.1268,  0.0729,  0.0039, -0.0193,  0.1027,\n",
       "          0.2170, -0.1791],\n",
       "        [-0.0350, -0.0256, -0.0195, -0.2591,  0.1021,  0.0877, -0.0639,  0.0319,\n",
       "          0.1994, -0.1544],\n",
       "        [-0.0640, -0.0893, -0.1042, -0.2173,  0.0808,  0.0947, -0.0094,  0.1013,\n",
       "          0.1015, -0.1018],\n",
       "        [-0.0565, -0.0024, -0.0694, -0.2457,  0.1090,  0.0929, -0.0918,  0.1338,\n",
       "          0.1655, -0.1504],\n",
       "        [-0.0384,  0.0146, -0.0498, -0.2423,  0.0782,  0.1174, -0.0550,  0.0042,\n",
       "          0.2050, -0.0823],\n",
       "        [-0.0531, -0.0149, -0.0592, -0.2949,  0.0473,  0.0651, -0.0305,  0.0840,\n",
       "          0.1489, -0.0708],\n",
       "        [-0.0180, -0.0720, -0.0237, -0.2322,  0.1209,  0.0497, -0.1073,  0.0603,\n",
       "          0.1681, -0.1276],\n",
       "        [-0.0695, -0.0687, -0.0776, -0.2493,  0.0635,  0.1002, -0.0446,  0.0810,\n",
       "          0.1511, -0.0505]], grad_fn=<AddmmBackward>)"
      ]
     },
     "execution_count": 6,
     "metadata": {},
     "output_type": "execute_result"
    }
   ],
   "source": [
    "logits"
   ]
  },
  {
   "cell_type": "markdown",
   "metadata": {},
   "source": [
    "In my experience it's more convenient to build the model with a log-softmax output using `nn.LogSoftmax` or `F.log_softmax` ([documentation](https://pytorch.org/docs/stable/nn.html#torch.nn.LogSoftmax)). Then you can get the actual probabilities by taking the exponential `torch.exp(output)`. With a log-softmax output, you want to use the negative log likelihood loss, `nn.NLLLoss` ([documentation](https://pytorch.org/docs/stable/nn.html#torch.nn.NLLLoss)).\n",
    "\n",
    ">**Exercise:** Build a model that returns the log-softmax as the output and calculate the loss using the negative log likelihood loss. Note that for `nn.LogSoftmax` and `F.log_softmax` you'll need to set the `dim` keyword argument appropriately. `dim=0` calculates softmax across the rows, so each column sums to 1, while `dim=1` calculates across the columns so each row sums to 1. Think about what you want the output to be and choose `dim` appropriately."
   ]
  },
  {
   "cell_type": "code",
   "execution_count": 9,
   "metadata": {},
   "outputs": [
    {
     "name": "stdout",
     "output_type": "stream",
     "text": [
      "tensor(2.2913, grad_fn=<NllLossBackward>)\n",
      "tensor([[0.0917, 0.0887, 0.1182, 0.0994, 0.1111, 0.0858, 0.0888, 0.1109, 0.1094,\n",
      "         0.0960],\n",
      "        [0.0899, 0.0896, 0.1229, 0.0969, 0.1079, 0.0875, 0.0885, 0.1081, 0.1107,\n",
      "         0.0979],\n",
      "        [0.0912, 0.0968, 0.1173, 0.1043, 0.1108, 0.0847, 0.0826, 0.1094, 0.1070,\n",
      "         0.0959],\n",
      "        [0.0934, 0.0869, 0.1151, 0.1060, 0.1047, 0.0817, 0.0873, 0.1178, 0.1113,\n",
      "         0.0957],\n",
      "        [0.0975, 0.0883, 0.1170, 0.1003, 0.1107, 0.0841, 0.0882, 0.1081, 0.1147,\n",
      "         0.0912],\n",
      "        [0.0901, 0.0917, 0.1164, 0.1033, 0.1125, 0.0837, 0.0834, 0.1114, 0.1120,\n",
      "         0.0956],\n",
      "        [0.0965, 0.0904, 0.1186, 0.1019, 0.1051, 0.0883, 0.0896, 0.1069, 0.1104,\n",
      "         0.0923],\n",
      "        [0.0898, 0.0912, 0.1222, 0.1021, 0.1094, 0.0820, 0.0863, 0.1046, 0.1175,\n",
      "         0.0947],\n",
      "        [0.0951, 0.0941, 0.1115, 0.1082, 0.1100, 0.0817, 0.0841, 0.1111, 0.1095,\n",
      "         0.0946],\n",
      "        [0.0979, 0.0862, 0.1121, 0.1023, 0.1064, 0.0831, 0.0909, 0.1097, 0.1140,\n",
      "         0.0973],\n",
      "        [0.0965, 0.0915, 0.1120, 0.1034, 0.1122, 0.0852, 0.0861, 0.1053, 0.1105,\n",
      "         0.0974],\n",
      "        [0.0920, 0.0917, 0.1163, 0.1033, 0.1122, 0.0809, 0.0872, 0.1080, 0.1142,\n",
      "         0.0944],\n",
      "        [0.0948, 0.0864, 0.1165, 0.0984, 0.1147, 0.0835, 0.0929, 0.1068, 0.1090,\n",
      "         0.0971],\n",
      "        [0.0953, 0.0906, 0.1200, 0.0995, 0.1121, 0.0850, 0.0856, 0.1126, 0.1060,\n",
      "         0.0932],\n",
      "        [0.0965, 0.0912, 0.1187, 0.1022, 0.1159, 0.0851, 0.0838, 0.1057, 0.1079,\n",
      "         0.0930],\n",
      "        [0.0937, 0.0908, 0.1214, 0.1014, 0.1129, 0.0840, 0.0843, 0.1071, 0.1119,\n",
      "         0.0925],\n",
      "        [0.0941, 0.0910, 0.1216, 0.0982, 0.1138, 0.0801, 0.0869, 0.1078, 0.1114,\n",
      "         0.0952],\n",
      "        [0.0996, 0.0944, 0.1225, 0.1009, 0.1105, 0.0875, 0.0830, 0.1064, 0.1081,\n",
      "         0.0871],\n",
      "        [0.0992, 0.0934, 0.1238, 0.0991, 0.1165, 0.0918, 0.0856, 0.1016, 0.0998,\n",
      "         0.0891],\n",
      "        [0.0905, 0.0940, 0.1223, 0.1046, 0.1090, 0.0805, 0.0836, 0.1035, 0.1138,\n",
      "         0.0982],\n",
      "        [0.0961, 0.0934, 0.1205, 0.0997, 0.1130, 0.0896, 0.0874, 0.1064, 0.1065,\n",
      "         0.0873],\n",
      "        [0.0987, 0.0923, 0.1231, 0.0995, 0.1081, 0.0910, 0.0853, 0.1046, 0.1075,\n",
      "         0.0898],\n",
      "        [0.0939, 0.0869, 0.1146, 0.1070, 0.1056, 0.0871, 0.0884, 0.1101, 0.1123,\n",
      "         0.0941],\n",
      "        [0.0937, 0.0903, 0.1135, 0.1003, 0.1134, 0.0879, 0.0884, 0.1068, 0.1051,\n",
      "         0.1005],\n",
      "        [0.0926, 0.0960, 0.1107, 0.1054, 0.1091, 0.0872, 0.0866, 0.1073, 0.1119,\n",
      "         0.0933],\n",
      "        [0.0958, 0.0936, 0.1171, 0.0993, 0.1122, 0.0872, 0.0860, 0.1083, 0.1036,\n",
      "         0.0970],\n",
      "        [0.0948, 0.0930, 0.1204, 0.1023, 0.1133, 0.0849, 0.0834, 0.1068, 0.1100,\n",
      "         0.0911],\n",
      "        [0.0984, 0.0958, 0.1190, 0.1032, 0.1080, 0.0857, 0.0831, 0.1035, 0.1117,\n",
      "         0.0917],\n",
      "        [0.0974, 0.0891, 0.1121, 0.1038, 0.1110, 0.0902, 0.0838, 0.1103, 0.1075,\n",
      "         0.0949],\n",
      "        [0.0968, 0.0904, 0.1203, 0.1031, 0.1029, 0.0847, 0.0870, 0.1034, 0.1138,\n",
      "         0.0975],\n",
      "        [0.0909, 0.0970, 0.1221, 0.1017, 0.1147, 0.0940, 0.0825, 0.1006, 0.1016,\n",
      "         0.0947],\n",
      "        [0.0892, 0.0948, 0.1221, 0.1042, 0.1088, 0.0821, 0.0900, 0.1083, 0.1033,\n",
      "         0.0973],\n",
      "        [0.0935, 0.0912, 0.1258, 0.0972, 0.1085, 0.0803, 0.0891, 0.1051, 0.1086,\n",
      "         0.1008],\n",
      "        [0.0979, 0.0905, 0.1047, 0.0998, 0.1132, 0.0890, 0.0904, 0.1073, 0.1097,\n",
      "         0.0976],\n",
      "        [0.1025, 0.0945, 0.1189, 0.1043, 0.1034, 0.0875, 0.0855, 0.1050, 0.1071,\n",
      "         0.0913],\n",
      "        [0.0901, 0.0931, 0.1191, 0.1046, 0.1121, 0.0784, 0.0879, 0.1107, 0.1036,\n",
      "         0.1004],\n",
      "        [0.1005, 0.0920, 0.1122, 0.1080, 0.1042, 0.0846, 0.0885, 0.1022, 0.1129,\n",
      "         0.0950],\n",
      "        [0.0969, 0.0921, 0.1098, 0.0953, 0.1110, 0.0894, 0.0888, 0.1067, 0.1103,\n",
      "         0.0996],\n",
      "        [0.0929, 0.0965, 0.1115, 0.1049, 0.1123, 0.0828, 0.0877, 0.1096, 0.1118,\n",
      "         0.0900],\n",
      "        [0.0982, 0.0945, 0.1259, 0.1014, 0.1056, 0.0873, 0.0839, 0.1027, 0.1096,\n",
      "         0.0911],\n",
      "        [0.0970, 0.0913, 0.1237, 0.0959, 0.1120, 0.0881, 0.0861, 0.1105, 0.1022,\n",
      "         0.0931],\n",
      "        [0.0954, 0.0841, 0.1151, 0.1055, 0.1028, 0.0814, 0.0934, 0.1115, 0.1163,\n",
      "         0.0945],\n",
      "        [0.0903, 0.0908, 0.1174, 0.0980, 0.1137, 0.0839, 0.0895, 0.1132, 0.1024,\n",
      "         0.1009],\n",
      "        [0.0970, 0.0904, 0.1123, 0.1000, 0.1115, 0.0838, 0.0883, 0.1133, 0.1072,\n",
      "         0.0962],\n",
      "        [0.0948, 0.0970, 0.1161, 0.1002, 0.1099, 0.0880, 0.0855, 0.1070, 0.1022,\n",
      "         0.0992],\n",
      "        [0.0979, 0.0880, 0.1120, 0.1028, 0.1093, 0.0793, 0.0868, 0.1112, 0.1163,\n",
      "         0.0964],\n",
      "        [0.0994, 0.0860, 0.1150, 0.1083, 0.1130, 0.0772, 0.0850, 0.1126, 0.1071,\n",
      "         0.0964],\n",
      "        [0.0970, 0.0901, 0.1089, 0.1047, 0.1105, 0.0894, 0.0841, 0.1115, 0.1080,\n",
      "         0.0957],\n",
      "        [0.0943, 0.0882, 0.1076, 0.1045, 0.1109, 0.0813, 0.0904, 0.1149, 0.1074,\n",
      "         0.1005],\n",
      "        [0.0948, 0.0827, 0.1190, 0.1050, 0.1110, 0.0810, 0.0898, 0.1144, 0.1037,\n",
      "         0.0986],\n",
      "        [0.0984, 0.0953, 0.1201, 0.0991, 0.1145, 0.0867, 0.0888, 0.1042, 0.1023,\n",
      "         0.0907],\n",
      "        [0.0902, 0.0944, 0.1196, 0.1019, 0.1086, 0.0842, 0.0891, 0.1073, 0.1024,\n",
      "         0.1023],\n",
      "        [0.0943, 0.0879, 0.1194, 0.1020, 0.1030, 0.0828, 0.0880, 0.1105, 0.1167,\n",
      "         0.0954],\n",
      "        [0.0985, 0.0910, 0.1203, 0.1007, 0.1145, 0.0874, 0.0834, 0.1053, 0.1074,\n",
      "         0.0916],\n",
      "        [0.0942, 0.0873, 0.1147, 0.1045, 0.1101, 0.0788, 0.0913, 0.1133, 0.1076,\n",
      "         0.0983],\n",
      "        [0.0946, 0.0883, 0.1140, 0.1002, 0.1112, 0.0800, 0.0909, 0.1108, 0.1130,\n",
      "         0.0969],\n",
      "        [0.0941, 0.0905, 0.1151, 0.1034, 0.1057, 0.0847, 0.0865, 0.1147, 0.1078,\n",
      "         0.0975],\n",
      "        [0.0994, 0.0872, 0.1121, 0.1027, 0.1128, 0.0865, 0.0895, 0.1080, 0.1084,\n",
      "         0.0934],\n",
      "        [0.0999, 0.0920, 0.1252, 0.0920, 0.1121, 0.0871, 0.0891, 0.1056, 0.1026,\n",
      "         0.0945],\n",
      "        [0.0923, 0.0893, 0.1226, 0.0996, 0.1149, 0.0824, 0.0878, 0.1089, 0.1065,\n",
      "         0.0956],\n",
      "        [0.0957, 0.0890, 0.1223, 0.1014, 0.1131, 0.0800, 0.0856, 0.1064, 0.1079,\n",
      "         0.0985],\n",
      "        [0.0953, 0.0879, 0.1234, 0.0998, 0.1096, 0.0799, 0.0877, 0.1066, 0.1088,\n",
      "         0.1011],\n",
      "        [0.0952, 0.0879, 0.1200, 0.0989, 0.1062, 0.0829, 0.0919, 0.1135, 0.1072,\n",
      "         0.0963],\n",
      "        [0.0945, 0.0887, 0.1206, 0.1000, 0.1083, 0.0845, 0.0885, 0.1083, 0.1087,\n",
      "         0.0980]], grad_fn=<ExpBackward>)\n"
     ]
    }
   ],
   "source": [
    "# TODO: Build a feed-forward network\n",
    "model = nn.Sequential(nn.Linear(784, 128),\n",
    "                      nn.ReLU(),\n",
    "                      nn.Linear(128, 64),\n",
    "                      nn.ReLU(),\n",
    "                      nn.Linear(64, 10),\n",
    "                      nn.LogSoftmax(dim=1))\n",
    "\n",
    "# TODO: Define the loss\n",
    "criterion = nn.NLLLoss()\n",
    "\n",
    "### Run this to check your work\n",
    "# Get our data\n",
    "dataiter = iter(trainloader)\n",
    "\n",
    "images, labels = next(dataiter)\n",
    "\n",
    "# Flatten images\n",
    "images = images.view(images.shape[0], -1)\n",
    "\n",
    "# Forward pass, get our logits\n",
    "logits = model(images)\n",
    "# Calculate the loss with the logits and the labels\n",
    "loss = criterion(logits, labels)\n",
    "\n",
    "print(loss)\n",
    "print(torch.exp(logits))"
   ]
  },
  {
   "cell_type": "markdown",
   "metadata": {},
   "source": [
    "## Autograd\n",
    "\n",
    "Now that we know how to calculate a loss, how do we use it to perform backpropagation? Torch provides a module, `autograd`, for automatically calculating the gradients of tensors. We can use it to calculate the gradients of all our parameters with respect to the loss. Autograd works by keeping track of operations performed on tensors, then going backwards through those operations, calculating gradients along the way. To make sure PyTorch keeps track of operations on a tensor and calculates the gradients, you need to set `requires_grad = True` on a tensor. You can do this at creation with the `requires_grad` keyword, or at any time with `x.requires_grad_(True)`.\n",
    "\n",
    "You can turn off gradients for a block of code with the `torch.no_grad()` content:\n",
    "```python\n",
    "x = torch.zeros(1, requires_grad=True)\n",
    ">>> with torch.no_grad():\n",
    "...     y = x * 2\n",
    ">>> y.requires_grad\n",
    "False\n",
    "```\n",
    "\n",
    "Also, you can turn on or off gradients altogether with `torch.set_grad_enabled(True|False)`.\n",
    "\n",
    "The gradients are computed with respect to some variable `z` with `z.backward()`. This does a backward pass through the operations that created `z`."
   ]
  },
  {
   "cell_type": "code",
   "execution_count": 10,
   "metadata": {},
   "outputs": [
    {
     "name": "stdout",
     "output_type": "stream",
     "text": [
      "tensor([[ 1.1536, -0.2741],\n",
      "        [ 1.2796,  0.7251]], requires_grad=True)\n"
     ]
    }
   ],
   "source": [
    "x = torch.randn(2,2, requires_grad=True)\n",
    "print(x)"
   ]
  },
  {
   "cell_type": "code",
   "execution_count": 11,
   "metadata": {},
   "outputs": [
    {
     "name": "stdout",
     "output_type": "stream",
     "text": [
      "tensor([[1.3308, 0.0751],\n",
      "        [1.6375, 0.5258]], grad_fn=<PowBackward0>)\n"
     ]
    }
   ],
   "source": [
    "y = x**2\n",
    "print(y)"
   ]
  },
  {
   "cell_type": "markdown",
   "metadata": {},
   "source": [
    "Below we can see the operation that created `y`, a power operation `PowBackward0`."
   ]
  },
  {
   "cell_type": "code",
   "execution_count": 12,
   "metadata": {},
   "outputs": [
    {
     "name": "stdout",
     "output_type": "stream",
     "text": [
      "<PowBackward0 object at 0x11226e890>\n"
     ]
    }
   ],
   "source": [
    "## grad_fn shows the function that generated this variable\n",
    "print(y.grad_fn)"
   ]
  },
  {
   "cell_type": "markdown",
   "metadata": {},
   "source": [
    "The autograd module keeps track of these operations and knows how to calculate the gradient for each one. In this way, it's able to calculate the gradients for a chain of operations, with respect to any one tensor. Let's reduce the tensor `y` to a scalar value, the mean."
   ]
  },
  {
   "cell_type": "code",
   "execution_count": 13,
   "metadata": {},
   "outputs": [
    {
     "name": "stdout",
     "output_type": "stream",
     "text": [
      "tensor(0.8923, grad_fn=<MeanBackward0>)\n"
     ]
    }
   ],
   "source": [
    "z = y.mean()\n",
    "print(z)"
   ]
  },
  {
   "cell_type": "markdown",
   "metadata": {},
   "source": [
    "You can check the gradients for `x` and `y` but they are empty currently."
   ]
  },
  {
   "cell_type": "code",
   "execution_count": 20,
   "metadata": {},
   "outputs": [
    {
     "name": "stdout",
     "output_type": "stream",
     "text": [
      "tensor([[ 0.5768, -0.1371],\n",
      "        [ 0.6398,  0.3626]])\n"
     ]
    }
   ],
   "source": [
    "print(x.grad)"
   ]
  },
  {
   "cell_type": "markdown",
   "metadata": {},
   "source": [
    "To calculate the gradients, you need to run the `.backward` method on a Variable, `z` for example. This will calculate the gradient for `z` with respect to `x`\n",
    "\n",
    "$$\n",
    "\\frac{\\partial z}{\\partial x} = \\frac{\\partial}{\\partial x}\\left[\\frac{1}{n}\\sum_i^n x_i^2\\right] = \\frac{x}{2}\n",
    "$$"
   ]
  },
  {
   "cell_type": "code",
   "execution_count": 17,
   "metadata": {},
   "outputs": [
    {
     "name": "stdout",
     "output_type": "stream",
     "text": [
      "tensor([[ 0.5768, -0.1371],\n",
      "        [ 0.6398,  0.3626]])\n",
      "tensor([[ 0.5768, -0.1371],\n",
      "        [ 0.6398,  0.3626]], grad_fn=<DivBackward0>)\n"
     ]
    }
   ],
   "source": [
    "z.backward()\n",
    "print(x.grad)\n",
    "print(x/2)"
   ]
  },
  {
   "cell_type": "markdown",
   "metadata": {},
   "source": [
    "These gradients calculations are particularly useful for neural networks. For training we need the gradients of the cost with respect to the weights. With PyTorch, we run data forward through the network to calculate the loss, then, go backwards to calculate the gradients with respect to the loss. Once we have the gradients we can make a gradient descent step. "
   ]
  },
  {
   "cell_type": "markdown",
   "metadata": {},
   "source": [
    "## Loss and Autograd together\n",
    "\n",
    "When we create a network with PyTorch, all of the parameters are initialized with `requires_grad = True`. This means that when we calculate the loss and call `loss.backward()`, the gradients for the parameters are calculated. These gradients are used to update the weights with gradient descent. Below you can see an example of calculating the gradients using a backwards pass."
   ]
  },
  {
   "cell_type": "code",
   "execution_count": 53,
   "metadata": {},
   "outputs": [],
   "source": [
    "# Build a feed-forward network\n",
    "model = nn.Sequential(nn.Linear(784, 128),\n",
    "                      nn.ReLU(),\n",
    "                      nn.Linear(128, 64),\n",
    "                      nn.ReLU(),\n",
    "                      nn.Linear(64, 10),\n",
    "                      nn.LogSoftmax(dim=1))\n",
    "\n",
    "criterion = nn.NLLLoss()\n",
    "dataiter = iter(trainloader)\n",
    "images, labels = next(dataiter)\n",
    "images = images.view(images.shape[0], -1)\n",
    "\n",
    "logits = model(images)\n",
    "loss = criterion(logits, labels)"
   ]
  },
  {
   "cell_type": "code",
   "execution_count": 54,
   "metadata": {},
   "outputs": [
    {
     "name": "stdout",
     "output_type": "stream",
     "text": [
      "Before backward pass: \n",
      " None\n",
      "After backward pass: \n",
      " tensor([[-0.0034, -0.0034, -0.0034,  ..., -0.0034, -0.0034, -0.0034],\n",
      "        [-0.0009, -0.0009, -0.0009,  ..., -0.0009, -0.0009, -0.0009],\n",
      "        [-0.0027, -0.0027, -0.0027,  ..., -0.0027, -0.0027, -0.0027],\n",
      "        ...,\n",
      "        [ 0.0009,  0.0009,  0.0009,  ...,  0.0009,  0.0009,  0.0009],\n",
      "        [ 0.0024,  0.0024,  0.0024,  ...,  0.0024,  0.0024,  0.0024],\n",
      "        [-0.0009, -0.0009, -0.0009,  ..., -0.0009, -0.0009, -0.0009]])\n"
     ]
    }
   ],
   "source": [
    "print('Before backward pass: \\n', model[0].weight.grad)\n",
    "\n",
    "loss.backward()\n",
    "\n",
    "print('After backward pass: \\n', model[0].weight.grad)"
   ]
  },
  {
   "cell_type": "code",
   "execution_count": 55,
   "metadata": {},
   "outputs": [
    {
     "name": "stdout",
     "output_type": "stream",
     "text": [
      "Parameter containing:\n",
      "tensor([[ 0.0132, -0.0332,  0.0261,  ..., -0.0198,  0.0080,  0.0075],\n",
      "        [ 0.0103, -0.0216,  0.0065,  ..., -0.0306,  0.0175, -0.0147],\n",
      "        [ 0.0166,  0.0039, -0.0060,  ...,  0.0237,  0.0296,  0.0055],\n",
      "        ...,\n",
      "        [ 0.0167, -0.0146,  0.0223,  ..., -0.0055, -0.0075, -0.0191],\n",
      "        [-0.0274, -0.0192,  0.0147,  ...,  0.0136,  0.0340,  0.0039],\n",
      "        [-0.0310,  0.0099,  0.0104,  ..., -0.0033, -0.0101,  0.0215]],\n",
      "       requires_grad=True)\n"
     ]
    }
   ],
   "source": [
    "print(model[0].weight)"
   ]
  },
  {
   "cell_type": "markdown",
   "metadata": {},
   "source": [
    "## Training the network!\n",
    "\n",
    "There's one last piece we need to start training, an optimizer that we'll use to update the weights with the gradients. We get these from PyTorch's [`optim` package](https://pytorch.org/docs/stable/optim.html). For example we can use stochastic gradient descent with `optim.SGD`. You can see how to define an optimizer below."
   ]
  },
  {
   "cell_type": "code",
   "execution_count": 60,
   "metadata": {},
   "outputs": [],
   "source": [
    "from torch import optim\n",
    "\n",
    "# Optimizers require the parameters to optimize and a learning rate\n",
    "optimizer = optim.SGD(model.parameters(), lr=0.01)"
   ]
  },
  {
   "cell_type": "markdown",
   "metadata": {},
   "source": [
    "Now we know how to use all the individual parts so it's time to see how they work together. Let's consider just one learning step before looping through all the data. The general process with PyTorch:\n",
    "\n",
    "* Make a forward pass through the network \n",
    "* Use the network output to calculate the loss\n",
    "* Perform a backward pass through the network with `loss.backward()` to calculate the gradients\n",
    "* Take a step with the optimizer to update the weights\n",
    "\n",
    "Below I'll go through one training step and print out the weights and gradients so you can see how it changes. Note that I have a line of code `optimizer.zero_grad()`. When you do multiple backwards passes with the same parameters, the gradients are accumulated. This means that you need to zero the gradients on each training pass or you'll retain gradients from previous training batches."
   ]
  },
  {
   "cell_type": "code",
   "execution_count": 61,
   "metadata": {},
   "outputs": [
    {
     "name": "stdout",
     "output_type": "stream",
     "text": [
      "Initial weights -  Parameter containing:\n",
      "tensor([[ 0.0163, -0.0301,  0.0292,  ..., -0.0166,  0.0111,  0.0107],\n",
      "        [ 0.0085, -0.0234,  0.0047,  ..., -0.0324,  0.0157, -0.0165],\n",
      "        [ 0.0141,  0.0014, -0.0085,  ...,  0.0212,  0.0271,  0.0029],\n",
      "        ...,\n",
      "        [ 0.0168, -0.0146,  0.0224,  ..., -0.0055, -0.0074, -0.0190],\n",
      "        [-0.0289, -0.0207,  0.0132,  ...,  0.0121,  0.0325,  0.0024],\n",
      "        [-0.0337,  0.0073,  0.0077,  ..., -0.0060, -0.0127,  0.0188]],\n",
      "       requires_grad=True)\n",
      "Gradient - tensor([[ 0.0000,  0.0000,  0.0000,  ...,  0.0000,  0.0000,  0.0000],\n",
      "        [-0.0024, -0.0024, -0.0024,  ..., -0.0024, -0.0024, -0.0024],\n",
      "        [-0.0052, -0.0052, -0.0052,  ..., -0.0052, -0.0052, -0.0052],\n",
      "        ...,\n",
      "        [-0.0013, -0.0013, -0.0013,  ..., -0.0013, -0.0013, -0.0013],\n",
      "        [ 0.0035,  0.0035,  0.0035,  ...,  0.0035,  0.0035,  0.0035],\n",
      "        [ 0.0014,  0.0014,  0.0014,  ...,  0.0014,  0.0014,  0.0014]])\n"
     ]
    }
   ],
   "source": [
    "print('Initial weights - ', model[0].weight)\n",
    "\n",
    "dataiter = iter(trainloader)\n",
    "images, labels = next(dataiter)\n",
    "images.resize_(images.shape[0],784)\n",
    "\n",
    "# Clear the gradients, do this because gradients are accumulated\n",
    "optimizer.zero_grad()\n",
    "\n",
    "# Forward pass, then backward pass, then update weights\n",
    "output = model(images)\n",
    "loss = criterion(output, labels)\n",
    "loss.backward()\n",
    "print('Gradient -', model[0].weight.grad)"
   ]
  },
  {
   "cell_type": "code",
   "execution_count": 62,
   "metadata": {},
   "outputs": [
    {
     "name": "stdout",
     "output_type": "stream",
     "text": [
      "Updated weights -  Parameter containing:\n",
      "tensor([[ 0.0163, -0.0301,  0.0292,  ..., -0.0166,  0.0111,  0.0107],\n",
      "        [ 0.0085, -0.0234,  0.0047,  ..., -0.0324,  0.0157, -0.0165],\n",
      "        [ 0.0141,  0.0014, -0.0085,  ...,  0.0212,  0.0272,  0.0030],\n",
      "        ...,\n",
      "        [ 0.0168, -0.0146,  0.0224,  ..., -0.0055, -0.0074, -0.0190],\n",
      "        [-0.0289, -0.0207,  0.0131,  ...,  0.0121,  0.0325,  0.0023],\n",
      "        [-0.0337,  0.0072,  0.0077,  ..., -0.0060, -0.0127,  0.0188]],\n",
      "       requires_grad=True)\n"
     ]
    }
   ],
   "source": [
    "# Take an update step and view the new weights\n",
    "optimizer.step()\n",
    "print('Updated weights - ', model[0].weight)"
   ]
  },
  {
   "cell_type": "markdown",
   "metadata": {},
   "source": [
    "### Training for real\n",
    "\n",
    "Now we'll put this algorithm into a loop so we can go through all the images. Some nomenclature, one pass through the entire dataset is called an *epoch*. So here we're going to loop through `trainloader` to get our training batches. For each batch, we'll doing a training pass where we calculate the loss, do a backwards pass, and update the weights.\n",
    "\n",
    ">**Exercise:** Implement the training pass for our network. If you implemented it correctly, you should see the training loss drop with each epoch."
   ]
  },
  {
   "cell_type": "code",
   "execution_count": 63,
   "metadata": {},
   "outputs": [
    {
     "name": "stdout",
     "output_type": "stream",
     "text": [
      "Epoch 0 Training loss: 1.9045792782484596\n",
      "Epoch 1 Training loss: 0.8406802096854903\n",
      "Epoch 2 Training loss: 0.5203207367772995\n",
      "Epoch 3 Training loss: 0.43056737551334573\n",
      "Epoch 4 Training loss: 0.3882544722034733\n"
     ]
    }
   ],
   "source": [
    "## Your solution here\n",
    "\n",
    "model = nn.Sequential(nn.Linear(784, 128),\n",
    "                      nn.ReLU(),\n",
    "                      nn.Linear(128, 64),\n",
    "                      nn.ReLU(),\n",
    "                      nn.Linear(64, 10),\n",
    "                      nn.LogSoftmax(dim=1))\n",
    "\n",
    "criterion = nn.NLLLoss()\n",
    "optimizer = optim.SGD(model.parameters(), lr=0.003)\n",
    "\n",
    "epochs = 5\n",
    "for e in range(epochs):\n",
    "    running_loss = 0\n",
    "    for images, labels in trainloader:\n",
    "        # Flatten MNIST images into a 784 long vector\n",
    "        images = images.view(images.shape[0], -1)\n",
    "    \n",
    "        # TODO: Training pass\n",
    "        # Clear the gradients, do this because gradients are accumulated\n",
    "        optimizer.zero_grad()\n",
    "        \n",
    "        # Forward pass, then backward pass, then update weights\n",
    "        output = model(images)\n",
    "        loss = criterion(output, labels)\n",
    "        loss.backward()\n",
    "         \n",
    "        # Take an update step\n",
    "        optimizer.step()\n",
    "        \n",
    "        running_loss += loss.item()\n",
    "    else:\n",
    "        print(f\"Epoch {e} Training loss: {running_loss/len(trainloader)}\")"
   ]
  },
  {
   "cell_type": "markdown",
   "metadata": {},
   "source": [
    "With the network trained, we can check out it's predictions."
   ]
  },
  {
   "cell_type": "code",
   "execution_count": 51,
   "metadata": {},
   "outputs": [
    {
     "data": {
      "image/png": "[encoded data removed]",
      "text/plain": [
       "<Figure size 432x648 with 2 Axes>"
      ]
     },
     "metadata": {
      "needs_background": "light"
     },
     "output_type": "display_data"
    }
   ],
   "source": [
    "%matplotlib inline\n",
    "import helper\n",
    "\n",
    "dataiter = iter(trainloader)\n",
    "images, labels = next(dataiter)\n",
    "\n",
    "img = images[0].view(1, 784)\n",
    "# Turn off gradients to speed up this part\n",
    "with torch.no_grad():\n",
    "    logps = model(img)\n",
    "\n",
    "# Output of the network are log-probabilities, need to take exponential for probabilities\n",
    "ps = torch.exp(logps)\n",
    "helper.view_classify(img.view(1, 28, 28), ps)"
   ]
  },
  {
   "cell_type": "code",
   "execution_count": 52,
   "metadata": {},
   "outputs": [
    {
     "data": {
      "text/plain": [
       "tensor([[7.6081e-06, 4.4889e-03, 4.7118e-03, 1.1928e-04, 1.6442e-05, 7.1067e-03,\n",
       "         2.4984e-03, 3.5226e-08, 9.8105e-01, 1.9359e-06]])"
      ]
     },
     "execution_count": 52,
     "metadata": {},
     "output_type": "execute_result"
    }
   ],
   "source": [
    "ps"
   ]
  },
  {
   "cell_type": "markdown",
   "metadata": {},
   "source": [
    "Now our network is brilliant. It can accurately predict the digits in our images. Next up you'll write the code for training a neural network on a more complex dataset."
   ]
  }
 ],
 "metadata": {
  "kernelspec": {
   "display_name": "Python 3",
   "language": "python",
   "name": "python3"
  },
  "language_info": {
   "codemirror_mode": {
    "name": "ipython",
    "version": 3
   },
   "file_extension": ".py",
   "mimetype": "text/x-python",
   "name": "python",
   "nbconvert_exporter": "python",
   "pygments_lexer": "ipython3",
   "version": "3.7.7"
  }
 },
 "nbformat": 4,
 "nbformat_minor": 2
}
