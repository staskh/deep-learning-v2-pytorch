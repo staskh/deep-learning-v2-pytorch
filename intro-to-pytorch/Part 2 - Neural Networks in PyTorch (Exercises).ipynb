{
 "cells": [
  {
   "cell_type": "markdown",
   "metadata": {},
   "source": [
    "# Neural networks with PyTorch\n",
    "\n",
    "Deep learning networks tend to be massive with dozens or hundreds of layers, that's where the term \"deep\" comes from. You can build one of these deep networks using only weight matrices as we did in the previous notebook, but in general it's very cumbersome and difficult to implement. PyTorch has a nice module `nn` that provides a nice way to efficiently build large neural networks."
   ]
  },
  {
   "cell_type": "code",
   "execution_count": null,
   "metadata": {},
   "outputs": [],
   "source": [
    "#\n",
    "# fix for AWS SageMaker\n",
    "#\n",
    "# add missing packages\n",
    "#\n",
    "!conda install -c conda-forge ipywidgets -y\n",
    "!jupyter nbextension enable --py widgetsnbextension\n",
    "#\n",
    "# Restart kernel\n",
    "#"
   ]
  },
  {
   "cell_type": "code",
   "execution_count": 19,
   "metadata": {},
   "outputs": [],
   "source": [
    "#\n",
    "# fix for MacOS \n",
    "#\n",
    "# from https://stackoverflow.com/questions/53014306/error-15-initializing-libiomp5-dylib-but-found-libiomp5-dylib-already-initial\n",
    "#\n",
    "\n",
    "import os\n",
    "os.environ['KMP_DUPLICATE_LIB_OK']='True'"
   ]
  },
  {
   "cell_type": "code",
   "execution_count": 20,
   "metadata": {},
   "outputs": [],
   "source": [
    "# Import necessary packages\n",
    "\n",
    "%matplotlib inline\n",
    "%config InlineBackend.figure_format = 'retina'\n",
    "\n",
    "import numpy as np\n",
    "import torch\n",
    "\n",
    "import helper\n",
    "\n",
    "import matplotlib.pyplot as plt"
   ]
  },
  {
   "cell_type": "code",
   "execution_count": 21,
   "metadata": {},
   "outputs": [],
   "source": [
    "from tqdm import tqdm"
   ]
  },
  {
   "cell_type": "markdown",
   "metadata": {},
   "source": [
    "\n",
    "Now we're going to build a larger network that can solve a (formerly) difficult problem, identifying text in an image. Here we'll use the MNIST dataset which consists of greyscale handwritten digits. Each image is 28x28 pixels, you can see a sample below\n",
    "\n",
    "<img src='assets/mnist.png'>\n",
    "\n",
    "Our goal is to build a neural network that can take one of these images and predict the digit in the image.\n",
    "\n",
    "First up, we need to get our dataset. This is provided through the `torchvision` package. The code below will download the MNIST dataset, then create training and test datasets for us. Don't worry too much about the details here, you'll learn more about this later."
   ]
  },
  {
   "cell_type": "code",
   "execution_count": 22,
   "metadata": {},
   "outputs": [],
   "source": [
    "# The MNIST datasets are hosted on yann.lecun.com that has moved under CloudFlare protection\n",
    "# Run this script to enable the datasets download\n",
    "# Reference: https://github.com/pytorch/vision/issues/1938\n",
    "\n",
    "from six.moves import urllib\n",
    "opener = urllib.request.build_opener()\n",
    "opener.addheaders = [('User-agent', 'Mozilla/5.0')]\n",
    "urllib.request.install_opener(opener)"
   ]
  },
  {
   "cell_type": "code",
   "execution_count": 23,
   "metadata": {},
   "outputs": [],
   "source": [
    "### Run this cell\n",
    "\n",
    "from torchvision import datasets, transforms\n",
    "\n",
    "# Define a transform to normalize the data\n",
    "transform = transforms.Compose([transforms.ToTensor(),\n",
    "                              transforms.Normalize((0.5,), (0.5,)),\n",
    "                              ])\n",
    "\n",
    "# Download and load the training data\n",
    "trainset = datasets.MNIST('~/.pytorch/MNIST_data/', download=True, train=True, transform=transform)\n",
    "trainloader = torch.utils.data.DataLoader(trainset, batch_size=64, shuffle=True)"
   ]
  },
  {
   "cell_type": "markdown",
   "metadata": {},
   "source": [
    "We have the training data loaded into `trainloader` and we make that an iterator with `iter(trainloader)`. Later, we'll use this to loop through the dataset for training, like\n",
    "\n",
    "```python\n",
    "for image, label in trainloader:\n",
    "    ## do things with images and labels\n",
    "```\n",
    "\n",
    "You'll notice I created the `trainloader` with a batch size of 64, and `shuffle=True`. The batch size is the number of images we get in one iteration from the data loader and pass through our network, often called a *batch*. And `shuffle=True` tells it to shuffle the dataset every time we start going through the data loader again. But here I'm just grabbing the first batch so we can check out the data. We can see below that `images` is just a tensor with size `(64, 1, 28, 28)`. So, 64 images per batch, 1 color channel, and 28x28 images."
   ]
  },
  {
   "cell_type": "code",
   "execution_count": 24,
   "metadata": {
    "collapsed": true,
    "jupyter": {
     "outputs_hidden": true
    }
   },
   "outputs": [
    {
     "name": "stdout",
     "output_type": "stream",
     "text": [
      "<class 'torch.Tensor'>\n",
      "torch.Size([64, 1, 28, 28])\n",
      "torch.Size([64])\n"
     ]
    }
   ],
   "source": [
    "dataiter = iter(trainloader)\n",
    "images, labels = dataiter.next()\n",
    "print(type(images))\n",
    "print(images.shape)\n",
    "print(labels.shape)"
   ]
  },
  {
   "cell_type": "markdown",
   "metadata": {},
   "source": [
    "This is what one of the images looks like. "
   ]
  },
  {
   "cell_type": "code",
   "execution_count": 25,
   "metadata": {
    "collapsed": true,
    "jupyter": {
     "outputs_hidden": true
    }
   },
   "outputs": [
    {
     "data": {
      "image/png": "[encoded data removed]",
      "text/plain": [
       "<Figure size 432x288 with 1 Axes>"
      ]
     },
     "metadata": {
      "image/png": {
       "height": 248,
       "width": 251
      },
      "needs_background": "light"
     },
     "output_type": "display_data"
    }
   ],
   "source": [
    "plt.imshow(images[1].numpy().squeeze(), cmap='Greys_r');"
   ]
  },
  {
   "cell_type": "markdown",
   "metadata": {},
   "source": [
    "First, let's try to build a simple network for this dataset using weight matrices and matrix multiplications. Then, we'll see how to do it using PyTorch's `nn` module which provides a much more convenient and powerful method for defining network architectures.\n",
    "\n",
    "The networks you've seen so far are called *fully-connected* or *dense* networks. Each unit in one layer is connected to each unit in the next layer. In fully-connected networks, the input to each layer must be a one-dimensional vector (which can be stacked into a 2D tensor as a batch of multiple examples). However, our images are 28x28 2D tensors, so we need to convert them into 1D vectors. Thinking about sizes, we need to convert the batch of images with shape `(64, 1, 28, 28)` to a have a shape of `(64, 784)`, 784 is 28 times 28. This is typically called *flattening*, we flattened the 2D images into 1D vectors.\n",
    "\n",
    "Previously you built a network with one output unit. Here we need 10 output units, one for each digit. We want our network to predict the digit shown in an image, so what we'll do is calculate probabilities that the image is of any one digit or class. This ends up being a discrete probability distribution over the classes (digits) that tells us the most likely class for the image. That means we need 10 output units for the 10 classes (digits). We'll see how to convert the network output into a probability distribution next.\n",
    "\n",
    "> **Exercise:** Flatten the batch of images `images`. Then build a multi-layer network with 784 input units, 256 hidden units, and 10 output units using random tensors for the weights and biases. For now, use a sigmoid activation for the hidden layer. Leave the output layer without an activation, we'll add one that gives us a probability distribution next."
   ]
  },
  {
   "cell_type": "code",
   "execution_count": 26,
   "metadata": {
    "collapsed": true,
    "jupyter": {
     "outputs_hidden": true
    }
   },
   "outputs": [
    {
     "data": {
      "text/plain": [
       "tensor([[-3.4332e-01, -9.9953e+00, -1.9061e+00, -9.5150e+00, -8.6484e+00,\n",
       "          2.7211e+00, -9.3670e+00, -1.0768e+01, -2.3310e+00, -9.8894e+00],\n",
       "        [ 5.8433e+00, -1.1235e+01,  4.7712e+00, -1.4859e-01,  4.7849e-01,\n",
       "          6.3328e+00, -9.3532e+00, -4.3544e+00,  5.5931e+00, -5.5166e+00],\n",
       "        [-1.0435e+00, -7.6537e+00,  5.0468e+00, -3.6903e+00, -5.8881e+00,\n",
       "          7.6491e+00, -5.5765e+00, -1.0866e+01,  1.1356e+00, -1.4419e+01],\n",
       "        [ 2.9982e+00, -1.5355e+00,  2.4889e+00, -1.0618e+01, -1.1816e-02,\n",
       "          4.4422e+00, -3.5883e+00, -6.4151e+00,  1.1192e+01, -2.9146e+00],\n",
       "        [ 5.6546e+00, -2.5243e+00, -2.3110e-01,  4.1357e-02,  2.3076e+00,\n",
       "          4.4412e+00, -1.1012e+01, -6.2890e+00,  6.0887e+00, -1.6036e+01],\n",
       "        [ 7.8079e+00, -6.9270e+00,  1.0358e+01, -4.4464e+00, -3.7416e-01,\n",
       "          8.5039e+00, -1.4277e+00, -1.1047e+01,  7.1976e+00, -1.5214e+01],\n",
       "        [ 3.8619e+00, -6.8512e+00,  4.9166e+00, -7.8614e+00, -8.0174e+00,\n",
       "          8.7503e+00, -2.9845e+00, -6.5505e+00,  1.0654e+01, -9.8388e+00],\n",
       "        [ 4.1170e+00, -7.6520e+00,  5.5990e+00,  1.1242e+00, -9.6557e+00,\n",
       "          3.6059e+00, -9.0240e+00, -4.1487e+00,  7.3215e+00, -7.1296e+00],\n",
       "        [ 2.8730e+00, -8.7924e+00,  1.7288e+00,  4.0439e-01, -5.8601e+00,\n",
       "          8.6767e+00, -1.7114e+00, -4.3614e+00,  7.8282e-01, -5.9375e+00],\n",
       "        [ 2.1298e+00, -7.9149e+00, -1.3208e+00, -1.1151e+01, -6.0983e+00,\n",
       "          7.2535e+00, -3.1677e-03,  3.6581e+00,  3.9213e+00, -1.1275e+01],\n",
       "        [ 4.8607e+00, -4.5081e+00, -3.5593e+00, -4.6717e-01, -9.4927e-01,\n",
       "          1.0553e+01, -3.5285e+00,  3.8220e+00, -7.4852e-01, -1.2298e+01],\n",
       "        [-3.1752e-01,  1.8253e+00,  5.1982e+00, -7.2476e+00, -6.7238e+00,\n",
       "          8.9322e+00, -5.9495e+00, -5.8108e+00,  4.5021e+00, -3.6997e+00],\n",
       "        [ 1.1858e+01, -7.6948e+00,  6.7785e+00,  8.0822e-02, -1.6159e+01,\n",
       "          4.6833e+00, -2.9845e+00, -1.2346e+01, -9.7689e+00, -1.9291e+01],\n",
       "        [-1.8597e-01, -1.3512e+01,  4.9640e+00, -1.1926e+01, -9.1184e+00,\n",
       "          6.9588e+00, -4.6328e+00, -1.3442e+01, -9.4104e+00, -1.1303e+01],\n",
       "        [-1.0772e+01, -6.9836e+00,  2.3758e+00, -6.5437e-01, -8.9746e+00,\n",
       "          1.0505e+00, -1.5899e+01,  2.5969e-01,  5.3164e+00, -1.1800e+01],\n",
       "        [-4.4576e+00, -9.6019e-01, -7.7627e+00, -3.4432e+00, -7.5426e+00,\n",
       "         -2.8654e+00, -7.3674e-01, -4.9558e+00,  4.5552e+00, -1.4678e+01],\n",
       "        [-6.7407e+00, -1.0597e+01, -6.0767e+00, -1.0521e+01, -1.1002e+01,\n",
       "         -1.4752e+00,  4.7130e-01,  1.6600e+00,  4.6180e+00, -1.0124e+01],\n",
       "        [ 1.0167e+00, -1.3645e+01,  1.2133e+00, -9.4048e+00,  3.3398e+00,\n",
       "          4.1346e+00, -9.2454e-01, -8.2279e+00,  1.1176e+01, -8.6647e+00],\n",
       "        [ 4.5358e+00, -1.0367e+01,  2.5599e-01,  1.3780e+00, -9.3968e+00,\n",
       "          1.4218e+01, -6.7263e+00, -1.0685e-01,  6.4537e-01, -8.5036e+00],\n",
       "        [-4.4143e+00, -4.4442e+00, -6.1048e+00, -1.7875e+00,  3.0594e+00,\n",
       "          8.4316e+00, -3.5960e+00, -8.5553e+00,  3.0547e+00, -7.8454e+00],\n",
       "        [ 3.7916e+00, -9.9584e+00,  1.0843e+01, -1.3118e+00, -9.1729e+00,\n",
       "          1.7257e+01,  1.7827e+00, -1.2159e+01,  1.3689e-02, -1.6073e+01],\n",
       "        [ 9.8951e+00, -1.1648e+01,  2.6989e+00, -4.9225e+00, -7.8245e+00,\n",
       "          1.4752e+01, -7.8964e+00, -1.1005e+01, -1.4811e+00, -4.4098e+00],\n",
       "        [-1.3411e+00, -8.1037e+00,  1.1759e+01, -2.1999e+00,  2.0346e+00,\n",
       "          2.0845e+01,  4.7116e+00, -1.1617e+01, -4.4531e+00, -1.4418e+01],\n",
       "        [-3.9391e+00, -1.5642e+01, -8.4485e+00, -7.5834e+00,  4.2432e+00,\n",
       "          8.6320e+00, -6.5137e+00, -2.3650e+00, -6.3173e-01, -7.7615e+00],\n",
       "        [ 4.2243e+00, -2.4083e+00, -6.6956e+00, -1.6008e+01,  1.0421e+00,\n",
       "          5.3314e+00, -9.2155e+00, -7.6452e+00, -5.1825e-01, -8.3331e+00],\n",
       "        [-1.4956e+00, -5.0965e+00, -8.2887e+00, -5.7806e+00, -8.1691e-01,\n",
       "          8.9033e+00, -4.3102e+00, -3.3596e+00,  2.1269e+00,  9.0154e+00],\n",
       "        [ 3.1096e+00, -2.8207e+00,  4.4049e+00, -8.8874e+00, -3.1029e+00,\n",
       "          6.8878e+00, -4.4935e+00, -6.3867e+00,  5.9621e-01, -6.7556e+00],\n",
       "        [ 5.7000e+00, -1.1938e+01,  4.4286e+00, -3.3102e-01, -4.6909e+00,\n",
       "          9.0792e+00, -1.0337e+01, -1.5297e+01, -1.3225e+00, -7.4062e+00],\n",
       "        [ 7.2816e+00, -1.2832e+01,  1.8231e+00, -9.2574e+00, -6.3098e+00,\n",
       "          1.2438e+01, -9.0344e+00, -6.7511e+00, -2.9287e+00, -5.7915e+00],\n",
       "        [-6.8872e+00, -9.0250e+00, -7.5909e+00,  2.0199e+00, -7.2757e+00,\n",
       "          1.0221e+01, -4.4120e+00, -7.3352e+00,  9.5690e+00, -5.4878e+00],\n",
       "        [ 6.3565e+00, -1.3326e+01, -1.9897e+00, -1.9195e+00, -8.7393e+00,\n",
       "          4.4214e+00, -6.4574e+00, -5.5215e+00,  5.5039e+00, -9.5453e+00],\n",
       "        [-2.5660e+00, -3.4931e+00, -3.0944e+00, -3.6165e+00, -4.7209e+00,\n",
       "          9.8859e+00,  4.2402e+00, -8.7089e+00, -2.7338e+00, -4.6178e+00],\n",
       "        [-2.4996e+00, -5.7437e+00,  8.9132e-01, -4.6015e+00, -2.2682e-01,\n",
       "          1.4691e+01, -4.0742e+00, -1.8361e+01,  1.9784e+00, -1.7795e+01],\n",
       "        [ 4.8691e+00, -1.3762e+00, -2.8000e+00, -3.8410e+00, -3.4564e+00,\n",
       "          6.5937e+00, -2.9987e+00, -7.3085e+00,  4.6344e+00, -4.8867e+00],\n",
       "        [ 8.3068e+00, -1.0401e+01,  4.7856e+00,  2.1453e+00, -6.4072e+00,\n",
       "          5.5672e+00, -1.4038e+01, -1.2006e+01,  5.4098e+00, -9.8720e+00],\n",
       "        [ 4.8204e+00, -1.2759e+01,  1.0314e+01, -8.7285e+00, -6.1719e+00,\n",
       "          1.4282e+01, -2.0586e+00,  1.5749e+00, -1.7489e+00, -1.2304e+01],\n",
       "        [ 4.3928e+00, -5.9741e+00,  5.0406e+00, -2.4992e-01, -5.0047e+00,\n",
       "          1.4255e+01, -5.1809e+00, -4.8968e+00,  1.5656e+01, -8.8793e+00],\n",
       "        [ 1.0993e+00,  2.7103e-01, -3.3136e+00, -9.4853e+00,  1.5901e+00,\n",
       "          1.6836e+01, -3.5002e-01, -1.3289e+01, -4.9848e+00, -1.3261e+01],\n",
       "        [ 4.9724e+00, -4.9658e-01,  3.6257e+00,  2.5072e-01, -4.4771e+00,\n",
       "          1.3673e+01, -5.9857e+00, -5.7907e+00, -4.0389e+00, -5.7056e+00],\n",
       "        [ 4.4198e+00, -1.1891e+01,  3.6680e-01,  4.4537e+00, -1.0173e+01,\n",
       "         -6.2703e-01, -4.3281e+00, -5.8368e-01,  4.7745e-01, -1.1335e+01],\n",
       "        [-1.1392e+00, -1.6113e+01, -4.7249e+00, -1.1251e+01, -3.7033e+00,\n",
       "          1.6578e+01, -4.9549e+00, -7.1470e+00, -4.6319e+00, -2.6704e+00],\n",
       "        [-8.0177e+00, -8.7794e+00, -1.5221e+00, -8.2276e+00, -3.8080e+00,\n",
       "          7.3965e+00, -6.6279e+00, -8.1954e-01,  4.5035e+00, -8.5714e+00],\n",
       "        [ 9.9299e-03, -9.8462e+00, -3.1093e+00,  1.7080e+00, -5.9102e+00,\n",
       "         -3.3133e+00, -6.1445e+00, -8.5042e-02,  1.9990e+00, -3.3871e+00],\n",
       "        [ 2.8992e+00,  5.8897e+00, -3.3065e+00, -1.3070e+01,  6.0822e+00,\n",
       "          1.2323e+01, -1.5746e+00, -1.0146e+01,  5.6860e-01, -9.4022e+00],\n",
       "        [-4.1896e+00, -3.1730e+00,  2.2380e+00, -3.6212e+00,  3.1410e+00,\n",
       "          1.7128e+01, -5.8171e+00, -2.1935e+00,  1.2149e+00, -7.8235e+00],\n",
       "        [ 3.7202e+00, -3.1165e+00,  4.6363e+00, -1.1094e+01, -3.8308e+00,\n",
       "          9.9105e+00, -3.1108e+00, -1.3963e+01,  8.0068e+00, -1.3602e+01],\n",
       "        [ 6.2593e+00, -1.0112e+01,  8.2906e+00, -6.4460e-01, -6.8401e+00,\n",
       "          7.9399e+00, -1.0561e+01, -2.1562e+00,  7.3541e+00,  5.6997e+00],\n",
       "        [ 1.0148e+01, -4.7042e+00,  2.1947e+00, -1.0037e+01, -6.2556e+00,\n",
       "         -4.6255e+00, -1.1249e+01, -5.9584e+00, -1.2453e+00, -6.2898e-01],\n",
       "        [ 2.6096e+00, -1.1694e+01, -1.9925e+00, -9.9937e+00, -5.0195e+00,\n",
       "          1.3226e+01, -6.5084e+00, -6.2457e+00,  2.1114e+00, -1.3543e+00],\n",
       "        [ 1.2128e+00, -1.5778e+00, -2.1014e+00, -1.1184e+01,  5.2537e+00,\n",
       "          9.0433e+00,  4.7664e-01, -4.7871e-01,  8.4334e+00, -1.2089e+01],\n",
       "        [ 9.7046e+00, -1.5393e+01,  2.8110e+00, -5.2501e+00, -6.5619e+00,\n",
       "          1.3953e+01, -9.0968e+00, -9.6604e+00, -1.6062e+00, -3.5844e+00],\n",
       "        [ 1.7534e+00, -6.8035e-01, -6.5607e+00, -8.8133e+00,  1.4885e+00,\n",
       "          8.1968e+00, -3.3278e+00,  4.4224e+00,  1.3009e+01, -5.6305e+00],\n",
       "        [-6.4492e+00, -1.0524e+01,  6.0738e+00, -3.8082e+00, -4.2179e+00,\n",
       "          9.3182e+00,  4.0358e+00, -1.8469e+01,  3.7628e-01, -1.1266e+01],\n",
       "        [-6.3562e-01, -1.1562e+01,  1.2382e+00,  6.5948e+00, -3.1711e+00,\n",
       "          1.7387e+01,  1.3481e+00, -1.0026e+01, -4.5731e+00, -1.0303e+01],\n",
       "        [-2.0428e+00, -1.0980e+01, -3.7029e+00, -5.9586e+00,  2.3425e+00,\n",
       "          9.9474e+00,  1.7116e+00, -5.4987e+00, -1.6847e+00, -8.6274e+00],\n",
       "        [ 2.1227e+00,  5.5031e-01,  1.3764e+00, -5.8826e+00,  1.5077e+00,\n",
       "          9.3521e+00, -7.4382e+00, -8.9392e+00, -1.0116e+00,  3.8398e+00],\n",
       "        [ 1.9448e+00, -3.2880e+00,  1.7174e+00, -1.1485e+01, -9.0135e+00,\n",
       "          7.7643e+00, -9.7324e+00, -6.5975e+00,  6.8794e+00,  3.0470e+00],\n",
       "        [ 9.8346e+00, -1.5234e+01,  3.4749e+00, -4.4667e+00, -5.5510e+00,\n",
       "          8.4316e+00, -9.4961e+00, -6.3924e+00, -1.6260e+00, -7.7732e+00],\n",
       "        [ 5.3926e+00,  3.5676e-01,  3.2587e+00,  9.9361e-01, -3.3201e+00,\n",
       "          1.1716e+00, -1.0480e+01, -9.0614e+00,  6.5434e+00, -7.1008e+00],\n",
       "        [ 1.7473e-01, -4.2321e-01,  8.8232e+00, -1.1584e+01, -1.4651e+01,\n",
       "          1.2990e+01, -6.2373e+00, -1.3707e+01,  2.7939e+00, -8.8696e+00],\n",
       "        [ 8.0933e+00, -4.4150e+00,  7.9494e+00, -5.1297e+00, -6.8276e+00,\n",
       "          6.3260e+00, -1.2421e+01, -1.3006e+01,  6.2252e+00, -1.4528e+01],\n",
       "        [-1.3022e+00, -5.5821e+00,  2.1245e+00, -9.8532e+00,  1.7900e+00,\n",
       "          1.0264e+01, -2.8627e+00, -8.3253e+00, -2.8343e+00, -1.0296e+01],\n",
       "        [-1.2109e+01, -1.1364e+01, -1.8739e+00, -4.0797e-02, -1.2712e+01,\n",
       "          2.2285e+00, -9.5877e+00, -2.8806e+00,  1.0544e+01, -4.6595e+00],\n",
       "        [ 7.6911e+00, -9.1804e+00,  8.2203e+00, -9.4938e+00, -1.2607e+01,\n",
       "         -1.6207e+00, -1.7672e+00, -1.0945e+01, -6.0003e+00, -1.8488e+01]])"
      ]
     },
     "execution_count": 26,
     "metadata": {},
     "output_type": "execute_result"
    }
   ],
   "source": [
    "## Your solution\n",
    "\n",
    "def sigmoid(x):\n",
    "    return 1/(1+torch.exp(-x))\n",
    "\n",
    "\n",
    "torch.manual_seed(7)\n",
    "\n",
    "# Define the size of each layer in our network\n",
    "n_input = 28*28     # Number of input units, must match number of input features\n",
    "n_hidden = 256                    # Number of hidden units \n",
    "n_output = 10                    # Number of output units\n",
    "\n",
    "W1 = torch.randn(n_input,n_hidden)\n",
    "B1 = torch.randn(n_hidden)\n",
    "\n",
    "W2 = torch.randn(n_hidden,n_output)\n",
    "B2 = torch.randn(n_output)\n",
    "\n",
    "\n",
    "features = images.view(images.shape[0],-1)\n",
    "\n",
    "y1 = sigmoid(torch.mm(features,W1)+B1)\n",
    "y2 = torch.mm(y1,W2)+B2\n",
    "\n",
    "out = y2 # output of your network, should have shape (64,10)\n",
    "out\n"
   ]
  },
  {
   "cell_type": "markdown",
   "metadata": {},
   "source": [
    "Now we have 10 outputs for our network. We want to pass in an image to our network and get out a probability distribution over the classes that tells us the likely class(es) the image belongs to. Something that looks like this:\n",
    "<img src='assets/image_distribution.png' width=500px>\n",
    "\n",
    "Here we see that the probability for each class is roughly the same. This is representing an untrained network, it hasn't seen any data yet so it just returns a uniform distribution with equal probabilities for each class.\n",
    "\n",
    "To calculate this probability distribution, we often use the [**softmax** function](https://en.wikipedia.org/wiki/Softmax_function). Mathematically this looks like\n",
    "\n",
    "$$\n",
    "\\Large \\sigma(x_i) = \\cfrac{e^{x_i}}{\\sum_k^K{e^{x_k}}}\n",
    "$$\n",
    "\n",
    "What this does is squish each input $x_i$ between 0 and 1 and normalizes the values to give you a proper probability distribution where the probabilites sum up to one.\n",
    "\n",
    "> **Exercise:** Implement a function `softmax` that performs the softmax calculation and returns probability distributions for each example in the batch. Note that you'll need to pay attention to the shapes when doing this. If you have a tensor `a` with shape `(64, 10)` and a tensor `b` with shape `(64,)`, doing `a/b` will give you an error because PyTorch will try to do the division across the columns (called broadcasting) but you'll get a size mismatch. The way to think about this is for each of the 64 examples, you only want to divide by one value, the sum in the denominator. So you need `b` to have a shape of `(64, 1)`. This way PyTorch will divide the 10 values in each row of `a` by the one value in each row of `b`. Pay attention to how you take the sum as well. You'll need to define the `dim` keyword in `torch.sum`. Setting `dim=0` takes the sum across the rows while `dim=1` takes the sum across the columns."
   ]
  },
  {
   "cell_type": "code",
   "execution_count": 45,
   "metadata": {
    "collapsed": true,
    "jupyter": {
     "outputs_hidden": true
    }
   },
   "outputs": [
    {
     "name": "stdout",
     "output_type": "stream",
     "text": [
      "torch.Size([64, 10])\n",
      "tensor([1.0000, 1.0000, 1.0000, 1.0000, 1.0000, 1.0000, 1.0000, 1.0000, 1.0000,\n",
      "        1.0000, 1.0000, 1.0000, 1.0000, 1.0000, 1.0000, 1.0000, 1.0000, 1.0000,\n",
      "        1.0000, 1.0000, 1.0000, 1.0000, 1.0000, 1.0000, 1.0000, 1.0000, 1.0000,\n",
      "        1.0000, 1.0000, 1.0000, 1.0000, 1.0000, 1.0000, 1.0000, 1.0000, 1.0000,\n",
      "        1.0000, 1.0000, 1.0000, 1.0000, 1.0000, 1.0000, 1.0000, 1.0000, 1.0000,\n",
      "        1.0000, 1.0000, 1.0000, 1.0000, 1.0000, 1.0000, 1.0000, 1.0000, 1.0000,\n",
      "        1.0000, 1.0000, 1.0000, 1.0000, 1.0000, 1.0000, 1.0000, 1.0000, 1.0000,\n",
      "        1.0000])\n",
      "torch.Size([64])\n"
     ]
    }
   ],
   "source": [
    "def softmax(x):\n",
    "    exp_x = torch.exp(x)\n",
    "    return exp_x/torch.sum(exp_x,dim=1).view(-1,1)\n",
    "    ## TODO: Implement the softmax function here\n",
    "\n",
    "# Here, out should be the output of the network in the previous excercise with shape (64,10)\n",
    "probabilities = softmax(out)\n",
    "\n",
    "# Does it have the right shape? Should be (64, 10)\n",
    "print(probabilities.shape)\n",
    "# Does it sum to 1?\n",
    "print(probabilities.sum(dim=1))\n",
    "print(probabilities.sum(dim=1).shape)"
   ]
  },
  {
   "cell_type": "markdown",
   "metadata": {},
   "source": [
    "## Building networks with PyTorch\n",
    "\n",
    "PyTorch provides a module `nn` that makes building networks much simpler. Here I'll show you how to build the same one as above with 784 inputs, 256 hidden units, 10 output units and a softmax output."
   ]
  },
  {
   "cell_type": "code",
   "execution_count": 47,
   "metadata": {
    "collapsed": true,
    "jupyter": {
     "outputs_hidden": true
    }
   },
   "outputs": [],
   "source": [
    "from torch import nn"
   ]
  },
  {
   "cell_type": "code",
   "execution_count": 69,
   "metadata": {
    "collapsed": true,
    "jupyter": {
     "outputs_hidden": true
    }
   },
   "outputs": [],
   "source": [
    "class Network(nn.Module):\n",
    "    def __init__(self):\n",
    "        super().__init__()\n",
    "        \n",
    "        # Inputs to hidden layer linear transformation\n",
    "        self.hidden = nn.Linear(784, 256)\n",
    "        self.sigmoid = nn.Sigmoid()\n",
    "        # Output layer, 10 units - one for each digit\n",
    "        self.output = nn.Linear(256, 10)\n",
    "        \n",
    "        # Define sigmoid activation and softmax output \n",
    "        self.softmax = nn.Softmax(dim=1)\n",
    "        \n",
    "    def forward(self, x):\n",
    "        # Pass the input tensor through each of our operations\n",
    "        x = self.hidden(x)\n",
    "        x = self.sigmoid(x)\n",
    "        x = self.output(x)\n",
    "        x = self.softmax(x)\n",
    "        \n",
    "        return x"
   ]
  },
  {
   "cell_type": "markdown",
   "metadata": {},
   "source": [
    "Let's go through this bit by bit.\n",
    "\n",
    "```python\n",
    "class Network(nn.Module):\n",
    "```\n",
    "\n",
    "Here we're inheriting from `nn.Module`. Combined with `super().__init__()` this creates a class that tracks the architecture and provides a lot of useful methods and attributes. It is mandatory to inherit from `nn.Module` when you're creating a class for your network. The name of the class itself can be anything.\n",
    "\n",
    "```python\n",
    "self.hidden = nn.Linear(784, 256)\n",
    "```\n",
    "\n",
    "This line creates a module for a linear transformation, $x\\mathbf{W} + b$, with 784 inputs and 256 outputs and assigns it to `self.hidden`. The module automatically creates the weight and bias tensors which we'll use in the `forward` method. You can access the weight and bias tensors once the network (`net`) is created with `net.hidden.weight` and `net.hidden.bias`.\n",
    "\n",
    "```python\n",
    "self.output = nn.Linear(256, 10)\n",
    "```\n",
    "\n",
    "Similarly, this creates another linear transformation with 256 inputs and 10 outputs.\n",
    "\n",
    "```python\n",
    "self.sigmoid = nn.Sigmoid()\n",
    "self.softmax = nn.Softmax(dim=1)\n",
    "```\n",
    "\n",
    "Here I defined operations for the sigmoid activation and softmax output. Setting `dim=1` in `nn.Softmax(dim=1)` calculates softmax across the columns.\n",
    "\n",
    "```python\n",
    "def forward(self, x):\n",
    "```\n",
    "\n",
    "PyTorch networks created with `nn.Module` must have a `forward` method defined. It takes in a tensor `x` and passes it through the operations you defined in the `__init__` method.\n",
    "\n",
    "```python\n",
    "x = self.hidden(x)\n",
    "x = self.sigmoid(x)\n",
    "x = self.output(x)\n",
    "x = self.softmax(x)\n",
    "```\n",
    "\n",
    "Here the input tensor `x` is passed through each operation and reassigned to `x`. We can see that the input tensor goes through the hidden layer, then a sigmoid function, then the output layer, and finally the softmax function. It doesn't matter what you name the variables here, as long as the inputs and outputs of the operations match the network architecture you want to build. The order in which you define things in the `__init__` method doesn't matter, but you'll need to sequence the operations correctly in the `forward` method.\n",
    "\n",
    "Now we can create a `Network` object."
   ]
  },
  {
   "cell_type": "code",
   "execution_count": 70,
   "metadata": {
    "collapsed": true,
    "jupyter": {
     "outputs_hidden": true
    }
   },
   "outputs": [
    {
     "data": {
      "text/plain": [
       "Network(\n",
       "  (hidden): Linear(in_features=784, out_features=256, bias=True)\n",
       "  (sigmoid): Sigmoid()\n",
       "  (output): Linear(in_features=256, out_features=10, bias=True)\n",
       "  (softmax): Softmax(dim=1)\n",
       ")"
      ]
     },
     "execution_count": 70,
     "metadata": {},
     "output_type": "execute_result"
    }
   ],
   "source": [
    "# Create the network and look at it's text representation\n",
    "model = Network()\n",
    "model"
   ]
  },
  {
   "cell_type": "markdown",
   "metadata": {},
   "source": [
    "You can define the network somewhat more concisely and clearly using the `torch.nn.functional` module. This is the most common way you'll see networks defined as many operations are simple element-wise functions. We normally import this module as `F`, `import torch.nn.functional as F`."
   ]
  },
  {
   "cell_type": "code",
   "execution_count": 48,
   "metadata": {
    "collapsed": true,
    "jupyter": {
     "outputs_hidden": true
    }
   },
   "outputs": [],
   "source": [
    "import torch.nn.functional as F\n",
    "\n",
    "class Network(nn.Module):\n",
    "    def __init__(self):\n",
    "        super().__init__()\n",
    "        # Inputs to hidden layer linear transformation\n",
    "        self.hidden = nn.Linear(784, 256)\n",
    "        # Output layer, 10 units - one for each digit\n",
    "        self.output = nn.Linear(256, 10)\n",
    "        \n",
    "    def forward(self, x):\n",
    "        # Hidden layer with sigmoid activation\n",
    "        x = F.sigmoid(self.hidden(x))\n",
    "        # Output layer with softmax activation\n",
    "        x = F.softmax(self.output(x), dim=1)\n",
    "        \n",
    "        return x"
   ]
  },
  {
   "cell_type": "markdown",
   "metadata": {},
   "source": [
    "### Activation functions\n",
    "\n",
    "So far we've only been looking at the sigmoid activation function, but in general any function can be used as an activation function. The only requirement is that for a network to approximate a non-linear function, the activation functions must be non-linear. Here are a few more examples of common activation functions: Tanh (hyperbolic tangent), and ReLU (rectified linear unit).\n",
    "\n",
    "<img src=\"assets/activation.png\" width=700px>\n",
    "\n",
    "In practice, the ReLU function is used almost exclusively as the activation function for hidden layers."
   ]
  },
  {
   "cell_type": "markdown",
   "metadata": {},
   "source": [
    "### Your Turn to Build a Network\n",
    "\n",
    "<img src=\"assets/mlp_mnist.png\" width=600px>\n",
    "\n",
    "> **Exercise:** Create a network with 784 input units, a hidden layer with 128 units and a ReLU activation, then a hidden layer with 64 units and a ReLU activation, and finally an output layer with a softmax activation as shown above. You can use a ReLU activation with the `nn.ReLU` module or `F.relu` function.\n",
    "\n",
    "It's good practice to name your layers by their type of network, for instance 'fc' to represent a fully-connected layer. As you code your solution, use `fc1`, `fc2`, and `fc3` as your layer names."
   ]
  },
  {
   "cell_type": "code",
   "execution_count": 85,
   "metadata": {
    "collapsed": true,
    "jupyter": {
     "outputs_hidden": true
    },
    "scrolled": true
   },
   "outputs": [],
   "source": [
    "## Your solution here\n",
    "from torch import nn\n",
    "import torch.nn.functional as F\n",
    "\n",
    "class Network(nn.Module):\n",
    "    def __init__(self):\n",
    "        super().__init__()\n",
    "        \n",
    "        self.hidden_1 = nn.Linear(784,128)\n",
    "        self.hidden_2 = nn.Linear(128,64)\n",
    "        self.output = nn.Linear(64,10)\n",
    "        \n",
    "    def forward(self,x):\n",
    "        \n",
    "        x = F.relu(self.hidden_1(x))\n",
    "        x = F.relu(self.hidden_2(x))\n",
    "        x = F.softmax(self.output(x),dim=1)\n",
    "        \n",
    "        return x\n",
    "        "
   ]
  },
  {
   "cell_type": "code",
   "execution_count": 86,
   "metadata": {},
   "outputs": [
    {
     "data": {
      "text/plain": [
       "Network(\n",
       "  (hidden_1): Linear(in_features=784, out_features=128, bias=True)\n",
       "  (hidden_2): Linear(in_features=128, out_features=64, bias=True)\n",
       "  (output): Linear(in_features=64, out_features=10, bias=True)\n",
       ")"
      ]
     },
     "execution_count": 86,
     "metadata": {},
     "output_type": "execute_result"
    }
   ],
   "source": [
    "model = Network()\n",
    "model"
   ]
  },
  {
   "cell_type": "markdown",
   "metadata": {},
   "source": [
    "### Initializing weights and biases\n",
    "\n",
    "The weights and such are automatically initialized for you, but it's possible to customize how they are initialized. The weights and biases are tensors attached to the layer you defined, you can get them with `model.fc1.weight` for instance."
   ]
  },
  {
   "cell_type": "code",
   "execution_count": 87,
   "metadata": {
    "collapsed": true,
    "jupyter": {
     "outputs_hidden": true
    }
   },
   "outputs": [
    {
     "name": "stdout",
     "output_type": "stream",
     "text": [
      "Parameter containing:\n",
      "tensor([[-0.0036, -0.0329,  0.0111,  ...,  0.0126,  0.0289, -0.0185],\n",
      "        [ 0.0185,  0.0184,  0.0299,  ...,  0.0194,  0.0356, -0.0155],\n",
      "        [-0.0222, -0.0193, -0.0173,  ..., -0.0305,  0.0155, -0.0251],\n",
      "        ...,\n",
      "        [ 0.0181,  0.0188,  0.0022,  ...,  0.0227,  0.0186, -0.0321],\n",
      "        [ 0.0105, -0.0011,  0.0005,  ..., -0.0330,  0.0292, -0.0304],\n",
      "        [ 0.0212,  0.0126, -0.0018,  ..., -0.0333,  0.0301, -0.0216]],\n",
      "       requires_grad=True)\n",
      "Parameter containing:\n",
      "tensor([ 0.0295, -0.0351,  0.0173, -0.0137, -0.0338, -0.0250,  0.0164, -0.0224,\n",
      "        -0.0261,  0.0007, -0.0221,  0.0162,  0.0056, -0.0261, -0.0189,  0.0075,\n",
      "        -0.0026,  0.0293, -0.0100,  0.0139,  0.0272,  0.0170,  0.0088, -0.0278,\n",
      "         0.0290,  0.0242, -0.0056, -0.0053,  0.0020, -0.0017, -0.0055,  0.0054,\n",
      "        -0.0334,  0.0340,  0.0008, -0.0008, -0.0318,  0.0338, -0.0047, -0.0182,\n",
      "         0.0006, -0.0347, -0.0002,  0.0169,  0.0177, -0.0243,  0.0055,  0.0305,\n",
      "         0.0200, -0.0038,  0.0106,  0.0314,  0.0311,  0.0286,  0.0292, -0.0017,\n",
      "         0.0121,  0.0011,  0.0176,  0.0333,  0.0269, -0.0052, -0.0352, -0.0222,\n",
      "         0.0339,  0.0099,  0.0147, -0.0008,  0.0152,  0.0099,  0.0116, -0.0269,\n",
      "        -0.0153,  0.0139,  0.0207, -0.0315,  0.0330,  0.0222,  0.0257, -0.0047,\n",
      "         0.0046,  0.0012,  0.0238,  0.0028,  0.0191, -0.0350, -0.0007, -0.0245,\n",
      "        -0.0249, -0.0347, -0.0173, -0.0106, -0.0010, -0.0292,  0.0167,  0.0005,\n",
      "         0.0299, -0.0008,  0.0006,  0.0004, -0.0072,  0.0161,  0.0032,  0.0248,\n",
      "        -0.0189, -0.0052,  0.0062, -0.0324,  0.0047, -0.0312,  0.0234,  0.0084,\n",
      "         0.0099, -0.0270,  0.0347, -0.0297,  0.0092,  0.0162,  0.0031,  0.0180,\n",
      "         0.0316,  0.0093, -0.0223, -0.0157, -0.0316,  0.0172, -0.0167,  0.0112],\n",
      "       requires_grad=True)\n"
     ]
    }
   ],
   "source": [
    "print(model.hidden_1.weight)\n",
    "print(model.hidden_1.bias)"
   ]
  },
  {
   "cell_type": "markdown",
   "metadata": {},
   "source": [
    "For custom initialization, we want to modify these tensors in place. These are actually autograd *Variables*, so we need to get back the actual tensors with `model.fc1.weight.data`. Once we have the tensors, we can fill them with zeros (for biases) or random normal values."
   ]
  },
  {
   "cell_type": "code",
   "execution_count": 88,
   "metadata": {
    "collapsed": true,
    "jupyter": {
     "outputs_hidden": true
    }
   },
   "outputs": [
    {
     "data": {
      "text/plain": [
       "tensor([0., 0., 0., 0., 0., 0., 0., 0., 0., 0., 0., 0., 0., 0., 0., 0., 0., 0., 0., 0., 0., 0., 0., 0.,\n",
       "        0., 0., 0., 0., 0., 0., 0., 0., 0., 0., 0., 0., 0., 0., 0., 0., 0., 0., 0., 0., 0., 0., 0., 0.,\n",
       "        0., 0., 0., 0., 0., 0., 0., 0., 0., 0., 0., 0., 0., 0., 0., 0., 0., 0., 0., 0., 0., 0., 0., 0.,\n",
       "        0., 0., 0., 0., 0., 0., 0., 0., 0., 0., 0., 0., 0., 0., 0., 0., 0., 0., 0., 0., 0., 0., 0., 0.,\n",
       "        0., 0., 0., 0., 0., 0., 0., 0., 0., 0., 0., 0., 0., 0., 0., 0., 0., 0., 0., 0., 0., 0., 0., 0.,\n",
       "        0., 0., 0., 0., 0., 0., 0., 0.])"
      ]
     },
     "execution_count": 88,
     "metadata": {},
     "output_type": "execute_result"
    }
   ],
   "source": [
    "# Set biases to all zeros\n",
    "model.hidden_1.bias.data.fill_(0)"
   ]
  },
  {
   "cell_type": "code",
   "execution_count": 89,
   "metadata": {
    "collapsed": true,
    "jupyter": {
     "outputs_hidden": true
    }
   },
   "outputs": [
    {
     "data": {
      "text/plain": [
       "tensor([[-0.0051,  0.0150, -0.0096,  ..., -0.0032,  0.0070,  0.0042],\n",
       "        [ 0.0060,  0.0034, -0.0054,  ..., -0.0141,  0.0079, -0.0023],\n",
       "        [ 0.0209,  0.0064,  0.0031,  ...,  0.0009, -0.0036, -0.0126],\n",
       "        ...,\n",
       "        [-0.0078, -0.0190,  0.0137,  ...,  0.0007, -0.0060,  0.0014],\n",
       "        [-0.0050, -0.0045, -0.0020,  ...,  0.0209, -0.0002,  0.0022],\n",
       "        [ 0.0012, -0.0071, -0.0020,  ...,  0.0069,  0.0099, -0.0002]])"
      ]
     },
     "execution_count": 89,
     "metadata": {},
     "output_type": "execute_result"
    }
   ],
   "source": [
    "# sample from random normal with standard dev = 0.01\n",
    "model.hidden_1.weight.data.normal_(std=0.01)"
   ]
  },
  {
   "cell_type": "markdown",
   "metadata": {},
   "source": [
    "### Forward pass\n",
    "\n",
    "Now that we have a network, let's see what happens when we pass in an image."
   ]
  },
  {
   "cell_type": "code",
   "execution_count": 90,
   "metadata": {
    "collapsed": true,
    "jupyter": {
     "outputs_hidden": true
    }
   },
   "outputs": [
    {
     "data": {
      "image/png": "[encoded data removed]",
      "text/plain": [
       "<Figure size 432x648 with 2 Axes>"
      ]
     },
     "metadata": {
      "image/png": {
       "height": 235,
       "width": 424
      },
      "needs_background": "light"
     },
     "output_type": "display_data"
    }
   ],
   "source": [
    "# Grab some data \n",
    "dataiter = iter(trainloader)\n",
    "images, labels = dataiter.next()\n",
    "\n",
    "# Resize images into a 1D vector, new shape is (batch size, color channels, image pixels) \n",
    "images.resize_(64, 1, 784)\n",
    "# or images.resize_(images.shape[0], 1, 784) to automatically get batch size\n",
    "\n",
    "# Forward pass through the network\n",
    "img_idx = 0\n",
    "ps = model.forward(images[img_idx,:])\n",
    "\n",
    "img = images[img_idx]\n",
    "helper.view_classify(img.view(1, 28, 28), ps)"
   ]
  },
  {
   "cell_type": "code",
   "execution_count": 96,
   "metadata": {},
   "outputs": [
    {
     "data": {
      "text/plain": [
       "(10,)"
      ]
     },
     "execution_count": 96,
     "metadata": {},
     "output_type": "execute_result"
    }
   ],
   "source": [
    "ps.data.numpy().squeeze().shape"
   ]
  },
  {
   "cell_type": "markdown",
   "metadata": {},
   "source": [
    "As you can see above, our network has basically no idea what this digit is. It's because we haven't trained it yet, all the weights are random!\n",
    "\n",
    "### Using `nn.Sequential`\n",
    "\n",
    "PyTorch provides a convenient way to build networks like this where a tensor is passed sequentially through operations, `nn.Sequential` ([documentation](https://pytorch.org/docs/master/nn.html#torch.nn.Sequential)). Using this to build the equivalent network:"
   ]
  },
  {
   "cell_type": "code",
   "execution_count": 97,
   "metadata": {
    "collapsed": true,
    "jupyter": {
     "outputs_hidden": true
    }
   },
   "outputs": [
    {
     "name": "stdout",
     "output_type": "stream",
     "text": [
      "Sequential(\n",
      "  (0): Linear(in_features=784, out_features=128, bias=True)\n",
      "  (1): ReLU()\n",
      "  (2): Linear(in_features=128, out_features=64, bias=True)\n",
      "  (3): ReLU()\n",
      "  (4): Linear(in_features=64, out_features=10, bias=True)\n",
      "  (5): Softmax(dim=1)\n",
      ")\n"
     ]
    },
    {
     "data": {
      "image/png": "[encoded data removed]",
      "text/plain": [
       "<Figure size 432x648 with 2 Axes>"
      ]
     },
     "metadata": {
      "image/png": {
       "height": 235,
       "width": 424
      },
      "needs_background": "light"
     },
     "output_type": "display_data"
    }
   ],
   "source": [
    "# Hyperparameters for our network\n",
    "input_size = 784\n",
    "hidden_sizes = [128, 64]\n",
    "output_size = 10\n",
    "\n",
    "# Build a feed-forward network\n",
    "model = nn.Sequential(nn.Linear(input_size, hidden_sizes[0]),\n",
    "                      nn.ReLU(),\n",
    "                      nn.Linear(hidden_sizes[0], hidden_sizes[1]),\n",
    "                      nn.ReLU(),\n",
    "                      nn.Linear(hidden_sizes[1], output_size),\n",
    "                      nn.Softmax(dim=1))\n",
    "print(model)\n",
    "\n",
    "# Forward pass through the network and display output\n",
    "images, labels = next(iter(trainloader))\n",
    "images.resize_(images.shape[0], 1, 784)\n",
    "ps = model.forward(images[0,:])\n",
    "helper.view_classify(images[0].view(1, 28, 28), ps)"
   ]
  },
  {
   "cell_type": "markdown",
   "metadata": {},
   "source": [
    "Here our model is the same as before: 784 input units, a hidden layer with 128 units, ReLU activation, 64 unit hidden layer, another ReLU, then the output layer with 10 units, and the softmax output.\n",
    "\n",
    "The operations are available by passing in the appropriate index. For example, if you want to get first Linear operation and look at the weights, you'd use `model[0]`."
   ]
  },
  {
   "cell_type": "code",
   "execution_count": 98,
   "metadata": {
    "collapsed": true,
    "jupyter": {
     "outputs_hidden": true
    }
   },
   "outputs": [
    {
     "name": "stdout",
     "output_type": "stream",
     "text": [
      "Linear(in_features=784, out_features=128, bias=True)\n"
     ]
    },
    {
     "data": {
      "text/plain": [
       "Parameter containing:\n",
       "tensor([[ 0.0070, -0.0144,  0.0131,  ...,  0.0117,  0.0317, -0.0112],\n",
       "        [-0.0049,  0.0013, -0.0328,  ...,  0.0118, -0.0257, -0.0169],\n",
       "        [-0.0061,  0.0031, -0.0300,  ..., -0.0242,  0.0165, -0.0257],\n",
       "        ...,\n",
       "        [-0.0318, -0.0200,  0.0052,  ...,  0.0245, -0.0289, -0.0149],\n",
       "        [-0.0067,  0.0039,  0.0087,  ...,  0.0030,  0.0262,  0.0152],\n",
       "        [ 0.0165,  0.0120, -0.0111,  ..., -0.0300, -0.0306,  0.0323]],\n",
       "       requires_grad=True)"
      ]
     },
     "execution_count": 98,
     "metadata": {},
     "output_type": "execute_result"
    }
   ],
   "source": [
    "print(model[0])\n",
    "model[0].weight"
   ]
  },
  {
   "cell_type": "markdown",
   "metadata": {},
   "source": [
    "You can also pass in an `OrderedDict` to name the individual layers and operations, instead of using incremental integers. Note that dictionary keys must be unique, so _each operation must have a different name_."
   ]
  },
  {
   "cell_type": "code",
   "execution_count": 99,
   "metadata": {
    "collapsed": true,
    "jupyter": {
     "outputs_hidden": true
    }
   },
   "outputs": [
    {
     "data": {
      "text/plain": [
       "Sequential(\n",
       "  (fc1): Linear(in_features=784, out_features=128, bias=True)\n",
       "  (relu1): ReLU()\n",
       "  (fc2): Linear(in_features=128, out_features=64, bias=True)\n",
       "  (relu2): ReLU()\n",
       "  (output): Linear(in_features=64, out_features=10, bias=True)\n",
       "  (softmax): Softmax(dim=1)\n",
       ")"
      ]
     },
     "execution_count": 99,
     "metadata": {},
     "output_type": "execute_result"
    }
   ],
   "source": [
    "from collections import OrderedDict\n",
    "model = nn.Sequential(OrderedDict([\n",
    "                      ('fc1', nn.Linear(input_size, hidden_sizes[0])),\n",
    "                      ('relu1', nn.ReLU()),\n",
    "                      ('fc2', nn.Linear(hidden_sizes[0], hidden_sizes[1])),\n",
    "                      ('relu2', nn.ReLU()),\n",
    "                      ('output', nn.Linear(hidden_sizes[1], output_size)),\n",
    "                      ('softmax', nn.Softmax(dim=1))]))\n",
    "model"
   ]
  },
  {
   "cell_type": "markdown",
   "metadata": {},
   "source": [
    "Now you can access layers either by integer or the name"
   ]
  },
  {
   "cell_type": "code",
   "execution_count": 100,
   "metadata": {
    "collapsed": true,
    "jupyter": {
     "outputs_hidden": true
    }
   },
   "outputs": [
    {
     "name": "stdout",
     "output_type": "stream",
     "text": [
      "Linear(in_features=784, out_features=128, bias=True)\n",
      "Linear(in_features=784, out_features=128, bias=True)\n"
     ]
    }
   ],
   "source": [
    "print(model[0])\n",
    "print(model.fc1)"
   ]
  },
  {
   "cell_type": "markdown",
   "metadata": {},
   "source": [
    "In the next notebook, we'll see how we can train a neural network to accuractly predict the numbers appearing in the MNIST images."
   ]
  }
 ],
 "metadata": {
  "kernelspec": {
   "display_name": "Python 3",
   "language": "python",
   "name": "python3"
  },
  "language_info": {
   "codemirror_mode": {
    "name": "ipython",
    "version": 3
   },
   "file_extension": ".py",
   "mimetype": "text/x-python",
   "name": "python",
   "nbconvert_exporter": "python",
   "pygments_lexer": "ipython3",
   "version": "3.7.7"
  }
 },
 "nbformat": 4,
 "nbformat_minor": 4
}
